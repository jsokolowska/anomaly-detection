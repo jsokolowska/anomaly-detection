{
 "cells": [
  {
   "cell_type": "markdown",
   "source": [
    "# Setup"
   ],
   "metadata": {
    "collapsed": false,
    "id": "X5Z4WbyeFYe-"
   }
  },
  {
   "cell_type": "code",
   "execution_count": 1,
   "outputs": [],
   "source": [
    "# download red wine quality data\n",
    "#! mkdir wine\n",
    "#! wget -P wine https://archive.ics.uci.edu/ml/machine-learning-databases/wine-quality/winequality-red.csv\n",
    "\n",
    "# download and unzip Musk v2\n",
    "# ! mkdir musk\n",
    "# ! wget -P musk https://archive.ics.uci.edu/ml/machine-learning-databases/musk/clean2.data.Z\n",
    "# ! uncompress musk/clean2.data.Z\n",
    "\n",
    "# ! git clone --branch wip/clustering https://github.com/jsokolowska/anomaly-detection.git\n",
    "# ! mv anomaly-detection ad"
   ],
   "metadata": {
    "id": "QkHA1CPEFYfA",
    "outputId": "93a3f25a-cac8-49c5-c3a9-031412142547",
    "colab": {
     "base_uri": "https://localhost:8080/"
    }
   }
  },
  {
   "cell_type": "code",
   "source": [
    "# install pyod - not present by default in google colab\n",
    "! pip install pyod"
   ],
   "metadata": {
    "colab": {
     "base_uri": "https://localhost:8080/"
    },
    "id": "OwOmE3xNyarM",
    "outputId": "775a1150-b295-463b-94cb-3f45f4dd2488"
   },
   "execution_count": 2,
   "outputs": [
    {
     "name": "stdout",
     "output_type": "stream",
     "text": [
      "Requirement already satisfied: pyod in /home/joanna/Documents/Studia/22Z/SAD/anomaly-detection/venv/lib/python3.10/site-packages (1.0.9)\r\n",
      "Requirement already satisfied: matplotlib in /home/joanna/Documents/Studia/22Z/SAD/anomaly-detection/venv/lib/python3.10/site-packages (from pyod) (3.7.1)\r\n",
      "Requirement already satisfied: numba>=0.51 in /home/joanna/Documents/Studia/22Z/SAD/anomaly-detection/venv/lib/python3.10/site-packages (from pyod) (0.57.0)\r\n",
      "Requirement already satisfied: numpy>=1.19 in /home/joanna/Documents/Studia/22Z/SAD/anomaly-detection/venv/lib/python3.10/site-packages (from pyod) (1.24.3)\r\n",
      "Requirement already satisfied: joblib in /home/joanna/Documents/Studia/22Z/SAD/anomaly-detection/venv/lib/python3.10/site-packages (from pyod) (1.2.0)\r\n",
      "Requirement already satisfied: six in /home/joanna/Documents/Studia/22Z/SAD/anomaly-detection/venv/lib/python3.10/site-packages (from pyod) (1.16.0)\r\n",
      "Requirement already satisfied: scipy>=1.5.1 in /home/joanna/Documents/Studia/22Z/SAD/anomaly-detection/venv/lib/python3.10/site-packages (from pyod) (1.10.1)\r\n",
      "Requirement already satisfied: scikit-learn>=0.20.0 in /home/joanna/Documents/Studia/22Z/SAD/anomaly-detection/venv/lib/python3.10/site-packages (from pyod) (1.2.2)\r\n",
      "Requirement already satisfied: llvmlite<0.41,>=0.40.0dev0 in /home/joanna/Documents/Studia/22Z/SAD/anomaly-detection/venv/lib/python3.10/site-packages (from numba>=0.51->pyod) (0.40.0)\r\n",
      "Requirement already satisfied: threadpoolctl>=2.0.0 in /home/joanna/Documents/Studia/22Z/SAD/anomaly-detection/venv/lib/python3.10/site-packages (from scikit-learn>=0.20.0->pyod) (3.1.0)\r\n",
      "Requirement already satisfied: pillow>=6.2.0 in /home/joanna/Documents/Studia/22Z/SAD/anomaly-detection/venv/lib/python3.10/site-packages (from matplotlib->pyod) (9.5.0)\r\n",
      "Requirement already satisfied: packaging>=20.0 in /home/joanna/Documents/Studia/22Z/SAD/anomaly-detection/venv/lib/python3.10/site-packages (from matplotlib->pyod) (23.1)\r\n",
      "Requirement already satisfied: pyparsing>=2.3.1 in /home/joanna/Documents/Studia/22Z/SAD/anomaly-detection/venv/lib/python3.10/site-packages (from matplotlib->pyod) (3.0.9)\r\n",
      "Requirement already satisfied: contourpy>=1.0.1 in /home/joanna/Documents/Studia/22Z/SAD/anomaly-detection/venv/lib/python3.10/site-packages (from matplotlib->pyod) (1.0.7)\r\n",
      "Requirement already satisfied: cycler>=0.10 in /home/joanna/Documents/Studia/22Z/SAD/anomaly-detection/venv/lib/python3.10/site-packages (from matplotlib->pyod) (0.11.0)\r\n",
      "Requirement already satisfied: python-dateutil>=2.7 in /home/joanna/Documents/Studia/22Z/SAD/anomaly-detection/venv/lib/python3.10/site-packages (from matplotlib->pyod) (2.8.2)\r\n",
      "Requirement already satisfied: kiwisolver>=1.0.1 in /home/joanna/Documents/Studia/22Z/SAD/anomaly-detection/venv/lib/python3.10/site-packages (from matplotlib->pyod) (1.4.4)\r\n",
      "Requirement already satisfied: fonttools>=4.22.0 in /home/joanna/Documents/Studia/22Z/SAD/anomaly-detection/venv/lib/python3.10/site-packages (from matplotlib->pyod) (4.39.3)\r\n",
      "\r\n",
      "\u001B[1m[\u001B[0m\u001B[34;49mnotice\u001B[0m\u001B[1;39;49m]\u001B[0m\u001B[39;49m A new release of pip is available: \u001B[0m\u001B[31;49m23.0.1\u001B[0m\u001B[39;49m -> \u001B[0m\u001B[32;49m23.1.2\u001B[0m\r\n",
      "\u001B[1m[\u001B[0m\u001B[34;49mnotice\u001B[0m\u001B[1;39;49m]\u001B[0m\u001B[39;49m To update, run: \u001B[0m\u001B[32;49mpip install --upgrade pip\u001B[0m\r\n"
     ]
    }
   ]
  },
  {
   "cell_type": "code",
   "source": [
    "WINE_PATH = \"./wine/winequality-red.csv\"\n",
    "MUSK_PATH = \"./musk/clean2.data\""
   ],
   "metadata": {
    "id": "3ckDlK8k2N-A"
   },
   "execution_count": 1,
   "outputs": []
  },
  {
   "cell_type": "code",
   "execution_count": 2,
   "outputs": [],
   "source": [
    "from sklearn.metrics import roc_auc_score, f1_score, precision_score, recall_score\n",
    "\n",
    "def score( y_true, y_pred, y_proba):\n",
    "    recall = recall_score(y_true, y_pred)\n",
    "    precision = precision_score(y_true, y_pred)\n",
    "    roc = roc_auc_score(y_true, y_proba)\n",
    "    f1 = f1_score(y_true, y_pred)\n",
    "    return precision, recall, f1, roc"
   ],
   "metadata": {
    "id": "8_X4xmmlFYfB"
   }
  },
  {
   "cell_type": "markdown",
   "source": [
    "# Parameter Tuning"
   ],
   "metadata": {
    "collapsed": false,
    "id": "ubhnK4bKFYfC"
   }
  },
  {
   "cell_type": "code",
   "execution_count": 9,
   "outputs": [],
   "source": [
    "from sklearn.model_selection import GridSearchCV\n",
    "from anomaly_detection import ClusterBasedAnomalyDetection\n",
    "from sklearn.cluster import Birch\n",
    "from sklearn.model_selection import StratifiedKFold\n",
    "from data_loading import load_wine, load_musk\n",
    "import pandas as pd"
   ],
   "metadata": {
    "collapsed": false
   }
  },
  {
   "cell_type": "code",
   "execution_count": 10,
   "outputs": [],
   "source": [
    "df = pd.DataFrame(index=[\"musk\", \"wine\"], columns=[\"birch-lcdof\", \"birch-cblof\", \"dbscan-lcdof\", \"dbscan-cblof\"])\n",
    "# Params for wine\n",
    "param_grid = {\n",
    "    \"alpha\": [0.8, 0.9, 0.95],\n",
    "    \"beta\": [3, 5, 10],\n",
    "    \"contamination\": [0.1, 0.07, 0.05, 0.03],\n",
    "    \"n_clusters\" : [10, 3, 4, 9, 16, 25],\n",
    "    \"threshold\": [0.2, 0.5, 0.7]\n",
    "}\n",
    "N_SPLITS = 5\n",
    "X, y = load_wine(WINE_PATH)\n",
    "skf = StratifiedKFold(n_splits=N_SPLITS, random_state = 91, shuffle = True)"
   ],
   "metadata": {
    "collapsed": false
   }
  },
  {
   "cell_type": "code",
   "execution_count": null,
   "outputs": [],
   "source": [
    "clustering_algs = [(\"birch\", Birch())]\n",
    "measures = [\"ldcof\", \"cblof\"]\n",
    "datasets = {\"musk\": load_musk(MUSK_PATH), \"wine\": load_wine(WINE_PATH)}\n",
    "\n",
    "for dataset_name, values in datasets.items():\n",
    "    X,y = values\n",
    "    for name, algorithm in clustering_algs:\n",
    "        for measure in measures:\n",
    "            cbad = ClusterBasedAnomalyDetection(clustering_estimator=algorithm, dissimilarity_measure=measure)\n",
    "\n",
    "            search = GridSearchCV(param_grid=param_grid, estimator=cbad, scoring=\"roc_auc\", cv = 5, n_jobs=1)\n",
    "            search.fit(X, y)\n",
    "            print(f\"[{name}/{measure}/{dataset_name}] Best params: {search.best_params_}\")\n",
    "            print(f\"[{name}/{measure}/{dataset_name}] Best score: {search.best_score_}\")\n",
    "            df[f\"{name}-{measure}\"][dataset_name] = search.best_params_\n"
   ],
   "metadata": {
    "collapsed": false,
    "pycharm": {
     "is_executing": true
    }
   }
  },
  {
   "cell_type": "code",
   "execution_count": null,
   "outputs": [],
   "source": [],
   "metadata": {
    "collapsed": false
   }
  }
 ],
 "metadata": {
  "kernelspec": {
   "display_name": "Python 3",
   "language": "python",
   "name": "python3"
  },
  "language_info": {
   "codemirror_mode": {
    "name": "ipython",
    "version": 2
   },
   "file_extension": ".py",
   "mimetype": "text/x-python",
   "name": "python",
   "nbconvert_exporter": "python",
   "pygments_lexer": "ipython2",
   "version": "2.7.6"
  },
  "colab": {
   "provenance": []
  }
 },
 "nbformat": 4,
 "nbformat_minor": 0
}
