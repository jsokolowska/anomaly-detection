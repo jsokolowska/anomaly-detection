{
  "cells": [
    {
      "cell_type": "markdown",
      "source": [
        "# Setup"
      ],
      "metadata": {
        "collapsed": false,
        "id": "X5Z4WbyeFYe-"
      }
    },
    {
      "cell_type": "code",
      "execution_count": 1,
      "outputs": [
        {
          "output_type": "stream",
          "name": "stdout",
          "text": [
            "--2023-05-06 11:17:32--  https://archive.ics.uci.edu/ml/machine-learning-databases/wine-quality/winequality-red.csv\n",
            "Resolving archive.ics.uci.edu (archive.ics.uci.edu)... 128.195.10.252\n",
            "Connecting to archive.ics.uci.edu (archive.ics.uci.edu)|128.195.10.252|:443... connected.\n",
            "HTTP request sent, awaiting response... 200 OK\n",
            "Length: 84199 (82K) [application/x-httpd-php]\n",
            "Saving to: ‘wine/winequality-red.csv’\n",
            "\n",
            "winequality-red.csv 100%[===================>]  82.23K   318KB/s    in 0.3s    \n",
            "\n",
            "2023-05-06 11:17:33 (318 KB/s) - ‘wine/winequality-red.csv’ saved [84199/84199]\n",
            "\n",
            "--2023-05-06 11:17:33--  https://archive.ics.uci.edu/ml/machine-learning-databases/musk/clean2.data.Z\n",
            "Resolving archive.ics.uci.edu (archive.ics.uci.edu)... 128.195.10.252\n",
            "Connecting to archive.ics.uci.edu (archive.ics.uci.edu)|128.195.10.252|:443... connected.\n",
            "HTTP request sent, awaiting response... 200 OK\n",
            "Length: 1470557 (1.4M) [application/x-httpd-php]\n",
            "Saving to: ‘musk/clean2.data.Z’\n",
            "\n",
            "clean2.data.Z       100%[===================>]   1.40M  1.80MB/s    in 0.8s    \n",
            "\n",
            "2023-05-06 11:17:34 (1.80 MB/s) - ‘musk/clean2.data.Z’ saved [1470557/1470557]\n",
            "\n",
            "Cloning into 'anomaly-detection'...\n",
            "remote: Enumerating objects: 66, done.\u001b[K\n",
            "remote: Counting objects: 100% (66/66), done.\u001b[K\n",
            "remote: Compressing objects: 100% (44/44), done.\u001b[K\n",
            "remote: Total 66 (delta 27), reused 52 (delta 19), pack-reused 0\u001b[K\n",
            "Unpacking objects: 100% (66/66), 1.56 MiB | 4.16 MiB/s, done.\n"
          ]
        }
      ],
      "source": [
        "# download red wine quality data\n",
        "! mkdir wine\n",
        "! wget -P wine https://archive.ics.uci.edu/ml/machine-learning-databases/wine-quality/winequality-red.csv\n",
        "\n",
        "# download and unzip Musk v2\n",
        "! mkdir musk\n",
        "! wget -P musk https://archive.ics.uci.edu/ml/machine-learning-databases/musk/clean2.data.Z\n",
        "! uncompress musk/clean2.data.Z\n",
        "\n",
        "! git clone --branch wip/clustering https://github.com/jsokolowska/anomaly-detection.git\n",
        "! mv anomaly-detection ad"
      ],
      "metadata": {
        "id": "QkHA1CPEFYfA",
        "outputId": "ecf5cc98-e64e-49f1-afde-108716d75211",
        "colab": {
          "base_uri": "https://localhost:8080/"
        }
      }
    },
    {
      "cell_type": "code",
      "source": [
        "# install pyod - not present by default in google colab\n",
        "! pip install pyod"
      ],
      "metadata": {
        "id": "OwOmE3xNyarM",
        "outputId": "d4edfd8d-d55a-4db0-fa4a-526f4648eec9",
        "colab": {
          "base_uri": "https://localhost:8080/"
        }
      },
      "execution_count": 4,
      "outputs": [
        {
          "output_type": "stream",
          "name": "stdout",
          "text": [
            "Looking in indexes: https://pypi.org/simple, https://us-python.pkg.dev/colab-wheels/public/simple/\n",
            "Collecting pyod\n",
            "  Downloading pyod-1.0.9.tar.gz (149 kB)\n",
            "\u001b[2K     \u001b[90m━━━━━━━━━━━━━━━━━━━━━━━━━━━━━━━━━━━━━━━\u001b[0m \u001b[32m150.0/150.0 kB\u001b[0m \u001b[31m3.9 MB/s\u001b[0m eta \u001b[36m0:00:00\u001b[0m\n",
            "\u001b[?25h  Preparing metadata (setup.py) ... \u001b[?25l\u001b[?25hdone\n",
            "Requirement already satisfied: joblib in /usr/local/lib/python3.10/dist-packages (from pyod) (1.2.0)\n",
            "Requirement already satisfied: matplotlib in /usr/local/lib/python3.10/dist-packages (from pyod) (3.7.1)\n",
            "Requirement already satisfied: numpy>=1.19 in /usr/local/lib/python3.10/dist-packages (from pyod) (1.22.4)\n",
            "Requirement already satisfied: numba>=0.51 in /usr/local/lib/python3.10/dist-packages (from pyod) (0.56.4)\n",
            "Requirement already satisfied: scipy>=1.5.1 in /usr/local/lib/python3.10/dist-packages (from pyod) (1.10.1)\n",
            "Requirement already satisfied: scikit_learn>=0.20.0 in /usr/local/lib/python3.10/dist-packages (from pyod) (1.2.2)\n",
            "Requirement already satisfied: six in /usr/local/lib/python3.10/dist-packages (from pyod) (1.16.0)\n",
            "Requirement already satisfied: llvmlite<0.40,>=0.39.0dev0 in /usr/local/lib/python3.10/dist-packages (from numba>=0.51->pyod) (0.39.1)\n",
            "Requirement already satisfied: setuptools in /usr/local/lib/python3.10/dist-packages (from numba>=0.51->pyod) (67.7.2)\n",
            "Requirement already satisfied: threadpoolctl>=2.0.0 in /usr/local/lib/python3.10/dist-packages (from scikit_learn>=0.20.0->pyod) (3.1.0)\n",
            "Requirement already satisfied: packaging>=20.0 in /usr/local/lib/python3.10/dist-packages (from matplotlib->pyod) (23.1)\n",
            "Requirement already satisfied: fonttools>=4.22.0 in /usr/local/lib/python3.10/dist-packages (from matplotlib->pyod) (4.39.3)\n",
            "Requirement already satisfied: kiwisolver>=1.0.1 in /usr/local/lib/python3.10/dist-packages (from matplotlib->pyod) (1.4.4)\n",
            "Requirement already satisfied: pillow>=6.2.0 in /usr/local/lib/python3.10/dist-packages (from matplotlib->pyod) (8.4.0)\n",
            "Requirement already satisfied: cycler>=0.10 in /usr/local/lib/python3.10/dist-packages (from matplotlib->pyod) (0.11.0)\n",
            "Requirement already satisfied: python-dateutil>=2.7 in /usr/local/lib/python3.10/dist-packages (from matplotlib->pyod) (2.8.2)\n",
            "Requirement already satisfied: pyparsing>=2.3.1 in /usr/local/lib/python3.10/dist-packages (from matplotlib->pyod) (3.0.9)\n",
            "Requirement already satisfied: contourpy>=1.0.1 in /usr/local/lib/python3.10/dist-packages (from matplotlib->pyod) (1.0.7)\n",
            "Building wheels for collected packages: pyod\n",
            "  Building wheel for pyod (setup.py) ... \u001b[?25l\u001b[?25hdone\n",
            "  Created wheel for pyod: filename=pyod-1.0.9-py3-none-any.whl size=184112 sha256=5d7370ecfce40f0d21d067fd99f0e128259d37e56a50036bd667fc27f7e551df\n",
            "  Stored in directory: /root/.cache/pip/wheels/83/55/6b/552e083cf5509c0afe808b76cf434f1be284d01a112623bd37\n",
            "Successfully built pyod\n",
            "Installing collected packages: pyod\n",
            "Successfully installed pyod-1.0.9\n"
          ]
        }
      ]
    },
    {
      "cell_type": "code",
      "execution_count": 7,
      "outputs": [],
      "source": [
        "from sklearn.metrics import roc_auc_score, f1_score, precision_score, recall_score\n",
        "\n",
        "def score( y_true, y_pred, y_proba):\n",
        "    recall = recall_score(y_true, y_pred)\n",
        "    precision = precision_score(y_true, y_pred)\n",
        "    roc = roc_auc_score(y_true, y_proba)\n",
        "    f1 = f1_score(y_true, y_pred)\n",
        "    print(f\"F1: {f1}\")\n",
        "    print(f\"Precision: {precision}\")\n",
        "    print(f\"Recall: {recall}\")\n",
        "    print(f\"ROC AUC: {roc}\")\n",
        "    return [precision, recall, f1, roc]"
      ],
      "metadata": {
        "id": "8_X4xmmlFYfB"
      }
    },
    {
      "cell_type": "markdown",
      "source": [
        "# Parameter Tuning"
      ],
      "metadata": {
        "collapsed": false,
        "id": "ubhnK4bKFYfC"
      }
    },
    {
      "cell_type": "code",
      "execution_count": 8,
      "outputs": [
        {
          "output_type": "stream",
          "name": "stderr",
          "text": [
            "/usr/local/lib/python3.10/dist-packages/pyod/models/cblof.py:253: UserWarning: The chosen clustering for CBLOF does not havethe center of clusters. Calculate the centeras the mean of the clusters.\n",
            "  warnings.warn(\"The chosen clustering for CBLOF does not have\"\n"
          ]
        },
        {
          "output_type": "stream",
          "name": "stdout",
          "text": [
            "----- Birch clustering with CBLOF -----\n",
            "F1: 0.06639004149377593\n",
            "Precision: 0.05\n",
            "Recall: 0.09876543209876543\n",
            "ROC AUC: 0.43262740122643506\n"
          ]
        },
        {
          "output_type": "stream",
          "name": "stderr",
          "text": [
            "/usr/local/lib/python3.10/dist-packages/pyod/models/cblof.py:253: UserWarning: The chosen clustering for CBLOF does not havethe center of clusters. Calculate the centeras the mean of the clusters.\n",
            "  warnings.warn(\"The chosen clustering for CBLOF does not have\"\n"
          ]
        }
      ],
      "source": [
        "from ad.src.anomaly_detection import ClusterBasedAnomalyDetection\n",
        "from sklearn.cluster import Birch\n",
        "from ad.src.data_loading import load_wine, load_musk\n",
        "\n",
        "#Birch\n",
        "n_clusters = 10\n",
        "birch = Birch(n_clusters=n_clusters)\n",
        "X, y = load_wine(\"./wine/winequality-red.csv\")\n",
        "\n",
        "cbad_cblof = ClusterBasedAnomalyDetection(birch, dissimilarity_measure=\"cblof\", measure_args={\"n_clusters\": n_clusters})\n",
        "y_scores = cbad_cblof.decision_fun(X)\n",
        "y_pred = cbad_cblof.detect(X)\n",
        "\n",
        "print(f\"----- Birch clustering with CBLOF -----\")\n",
        "res = score(y, y_pred, y_scores)"
      ],
      "metadata": {
        "id": "3kxtZRX2FYfD",
        "outputId": "ac9f0c28-ea57-461c-a405-00c3e9d4f922",
        "colab": {
          "base_uri": "https://localhost:8080/"
        }
      }
    },
    {
      "cell_type": "code",
      "execution_count": null,
      "outputs": [
        {
          "name": "stdout",
          "output_type": "stream",
          "text": [
            "----- Birch clustering with LDCOF -----\n",
            "F1: 0.07468879668049792\n",
            "Precision: 0.05625\n",
            "Recall: 0.1111111111111111\n",
            "ROC AUC: 0.49668179378324306\n"
          ]
        }
      ],
      "source": [
        "cbad_ldcof = ClusterBasedAnomalyDetection(birch, dissimilarity_measure=\"ldcof\", measure_args={\"n_clusters\": n_clusters})\n",
        "y_scores = cbad_ldcof.decision_fun(X)\n",
        "y_pred = cbad_ldcof.detect(X)\n",
        "\n",
        "print(f\"----- Birch clustering with LDCOF -----\")\n",
        "res = score(y, y_pred, y_scores)"
      ],
      "metadata": {
        "id": "QLki3H4UFYfE",
        "outputId": "f993dda6-2316-4a37-c2fa-96976335109d"
      }
    }
  ],
  "metadata": {
    "kernelspec": {
      "display_name": "Python 3",
      "language": "python",
      "name": "python3"
    },
    "language_info": {
      "codemirror_mode": {
        "name": "ipython",
        "version": 2
      },
      "file_extension": ".py",
      "mimetype": "text/x-python",
      "name": "python",
      "nbconvert_exporter": "python",
      "pygments_lexer": "ipython2",
      "version": "2.7.6"
    },
    "colab": {
      "provenance": []
    }
  },
  "nbformat": 4,
  "nbformat_minor": 0
}