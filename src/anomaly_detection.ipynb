{
 "cells": [
  {
   "cell_type": "markdown",
   "source": [
    "# Setup"
   ],
   "metadata": {
    "collapsed": false,
    "id": "X5Z4WbyeFYe-"
   }
  },
  {
   "cell_type": "code",
   "execution_count": 1,
   "outputs": [],
   "source": [
    "# download red wine quality data\n",
    "#! mkdir wine\n",
    "#! wget -P wine https://archive.ics.uci.edu/ml/machine-learning-databases/wine-quality/winequality-red.csv\n",
    "\n",
    "# download and unzip Musk v2\n",
    "# ! mkdir musk\n",
    "# ! wget -P musk https://archive.ics.uci.edu/ml/machine-learning-databases/musk/clean2.data.Z\n",
    "# ! uncompress musk/clean2.data.Z\n",
    "\n",
    "# ! git clone --branch wip/clustering https://github.com/jsokolowska/anomaly-detection.git\n",
    "# ! mv anomaly-detection ad"
   ],
   "metadata": {
    "id": "QkHA1CPEFYfA",
    "outputId": "93a3f25a-cac8-49c5-c3a9-031412142547",
    "colab": {
     "base_uri": "https://localhost:8080/"
    }
   }
  },
  {
   "cell_type": "code",
   "source": [
    "# install pyod - not present by default in google colab\n",
    "! pip install pyod"
   ],
   "metadata": {
    "colab": {
     "base_uri": "https://localhost:8080/"
    },
    "id": "OwOmE3xNyarM",
    "outputId": "775a1150-b295-463b-94cb-3f45f4dd2488"
   },
   "execution_count": 2,
   "outputs": [
    {
     "name": "stdout",
     "output_type": "stream",
     "text": [
      "Requirement already satisfied: pyod in /home/joanna/Documents/Studia/22Z/SAD/anomaly-detection/venv/lib/python3.10/site-packages (1.0.9)\r\n",
      "Requirement already satisfied: matplotlib in /home/joanna/Documents/Studia/22Z/SAD/anomaly-detection/venv/lib/python3.10/site-packages (from pyod) (3.7.1)\r\n",
      "Requirement already satisfied: joblib in /home/joanna/Documents/Studia/22Z/SAD/anomaly-detection/venv/lib/python3.10/site-packages (from pyod) (1.2.0)\r\n",
      "Requirement already satisfied: scikit-learn>=0.20.0 in /home/joanna/Documents/Studia/22Z/SAD/anomaly-detection/venv/lib/python3.10/site-packages (from pyod) (1.2.2)\r\n",
      "Requirement already satisfied: six in /home/joanna/Documents/Studia/22Z/SAD/anomaly-detection/venv/lib/python3.10/site-packages (from pyod) (1.16.0)\r\n",
      "Requirement already satisfied: scipy>=1.5.1 in /home/joanna/Documents/Studia/22Z/SAD/anomaly-detection/venv/lib/python3.10/site-packages (from pyod) (1.10.1)\r\n",
      "Requirement already satisfied: numba>=0.51 in /home/joanna/Documents/Studia/22Z/SAD/anomaly-detection/venv/lib/python3.10/site-packages (from pyod) (0.57.0)\r\n",
      "Requirement already satisfied: numpy>=1.19 in /home/joanna/Documents/Studia/22Z/SAD/anomaly-detection/venv/lib/python3.10/site-packages (from pyod) (1.24.3)\r\n",
      "Requirement already satisfied: llvmlite<0.41,>=0.40.0dev0 in /home/joanna/Documents/Studia/22Z/SAD/anomaly-detection/venv/lib/python3.10/site-packages (from numba>=0.51->pyod) (0.40.0)\r\n",
      "Requirement already satisfied: threadpoolctl>=2.0.0 in /home/joanna/Documents/Studia/22Z/SAD/anomaly-detection/venv/lib/python3.10/site-packages (from scikit-learn>=0.20.0->pyod) (3.1.0)\r\n",
      "Requirement already satisfied: pyparsing>=2.3.1 in /home/joanna/Documents/Studia/22Z/SAD/anomaly-detection/venv/lib/python3.10/site-packages (from matplotlib->pyod) (3.0.9)\r\n",
      "Requirement already satisfied: python-dateutil>=2.7 in /home/joanna/Documents/Studia/22Z/SAD/anomaly-detection/venv/lib/python3.10/site-packages (from matplotlib->pyod) (2.8.2)\r\n",
      "Requirement already satisfied: fonttools>=4.22.0 in /home/joanna/Documents/Studia/22Z/SAD/anomaly-detection/venv/lib/python3.10/site-packages (from matplotlib->pyod) (4.39.3)\r\n",
      "Requirement already satisfied: kiwisolver>=1.0.1 in /home/joanna/Documents/Studia/22Z/SAD/anomaly-detection/venv/lib/python3.10/site-packages (from matplotlib->pyod) (1.4.4)\r\n",
      "Requirement already satisfied: contourpy>=1.0.1 in /home/joanna/Documents/Studia/22Z/SAD/anomaly-detection/venv/lib/python3.10/site-packages (from matplotlib->pyod) (1.0.7)\r\n",
      "Requirement already satisfied: pillow>=6.2.0 in /home/joanna/Documents/Studia/22Z/SAD/anomaly-detection/venv/lib/python3.10/site-packages (from matplotlib->pyod) (9.5.0)\r\n",
      "Requirement already satisfied: packaging>=20.0 in /home/joanna/Documents/Studia/22Z/SAD/anomaly-detection/venv/lib/python3.10/site-packages (from matplotlib->pyod) (23.1)\r\n",
      "Requirement already satisfied: cycler>=0.10 in /home/joanna/Documents/Studia/22Z/SAD/anomaly-detection/venv/lib/python3.10/site-packages (from matplotlib->pyod) (0.11.0)\r\n",
      "\r\n",
      "\u001B[1m[\u001B[0m\u001B[34;49mnotice\u001B[0m\u001B[1;39;49m]\u001B[0m\u001B[39;49m A new release of pip is available: \u001B[0m\u001B[31;49m23.0.1\u001B[0m\u001B[39;49m -> \u001B[0m\u001B[32;49m23.1.2\u001B[0m\r\n",
      "\u001B[1m[\u001B[0m\u001B[34;49mnotice\u001B[0m\u001B[1;39;49m]\u001B[0m\u001B[39;49m To update, run: \u001B[0m\u001B[32;49mpip install --upgrade pip\u001B[0m\r\n"
     ]
    }
   ]
  },
  {
   "cell_type": "code",
   "source": [
    "WINE_PATH = \"./wine/winequality-red.csv\"\n",
    "MUSK_PATH = \"./musk/clean2.data\""
   ],
   "metadata": {
    "id": "3ckDlK8k2N-A"
   },
   "execution_count": 2,
   "outputs": []
  },
  {
   "cell_type": "code",
   "execution_count": 1,
   "outputs": [],
   "source": [
    "from sklearn.metrics import roc_auc_score, f1_score, precision_score, recall_score\n",
    "\n",
    "def score( y_true, y_pred, y_proba):\n",
    "    recall = recall_score(y_true, y_pred)\n",
    "    precision = precision_score(y_true, y_pred)\n",
    "    roc = roc_auc_score(y_true, y_proba)\n",
    "    f1 = f1_score(y_true, y_pred)\n",
    "    return precision, recall, f1, roc"
   ],
   "metadata": {
    "id": "8_X4xmmlFYfB"
   }
  },
  {
   "cell_type": "markdown",
   "source": [
    "# Parameter Tuning"
   ],
   "metadata": {
    "collapsed": false,
    "id": "ubhnK4bKFYfC"
   }
  },
  {
   "cell_type": "code",
   "execution_count": 4,
   "outputs": [],
   "source": [
    "from sklearn.model_selection import GridSearchCV\n",
    "from anomaly_detection import ClusterBasedAnomalyDetection\n",
    "from sklearn.cluster import Birch\n",
    "from sklearn.model_selection import StratifiedKFold\n",
    "from data_loading import load_wine, load_musk\n",
    "import pandas as pd"
   ],
   "metadata": {
    "collapsed": false
   }
  },
  {
   "cell_type": "code",
   "execution_count": 5,
   "outputs": [],
   "source": [
    "df = pd.DataFrame(index=[\"musk\", \"wine\"], columns=[\"birch-lcdof\", \"birch-cblof\", \"dbscan-lcdof\", \"dbscan-cblof\"])\n",
    "# Params for wine\n",
    "param_grid = {\n",
    "    \"alpha\": [0.8, 0.9, 0.95],\n",
    "    \"beta\": [3, 5, 10],\n",
    "    \"contamination\": [0.1, 0.07, 0.05, 0.03],\n",
    "    \"n_clusters\" : [10, 3, 4, 9, 16, 25],\n",
    "    \"threshold\": [0.2, 0.5, 0.7]\n",
    "}\n",
    "N_SPLITS = 5\n",
    "X, y = load_wine(WINE_PATH)\n",
    "skf = StratifiedKFold(n_splits=N_SPLITS, random_state = 91, shuffle = True)"
   ],
   "metadata": {
    "collapsed": false
   }
  },
  {
   "cell_type": "code",
   "execution_count": null,
   "outputs": [],
   "source": [],
   "metadata": {
    "collapsed": false
   }
  },
  {
   "cell_type": "code",
   "execution_count": 6,
   "outputs": [
    {
     "name": "stdout",
     "output_type": "stream",
     "text": [
      "Fitting 5 folds for each of 648 candidates, totalling 3240 fits\n",
      "[CV 1/5] END alpha=0.8, beta=3, contamination=0.1, n_clusters=10, threshold=0.2;, score=0.732 total time=   1.1s\n",
      "[CV 2/5] END alpha=0.8, beta=3, contamination=0.1, n_clusters=10, threshold=0.2;, score=0.554 total time=   1.2s\n",
      "[CV 3/5] END alpha=0.8, beta=3, contamination=0.1, n_clusters=10, threshold=0.2;, score=0.696 total time=   1.1s\n",
      "[CV 4/5] END alpha=0.8, beta=3, contamination=0.1, n_clusters=10, threshold=0.2;, score=0.679 total time=   1.1s\n",
      "[CV 5/5] END alpha=0.8, beta=3, contamination=0.1, n_clusters=10, threshold=0.2;, score=0.658 total time=   1.1s\n",
      "[CV 1/5] END alpha=0.8, beta=3, contamination=0.1, n_clusters=10, threshold=0.5;, score=0.732 total time=   1.1s\n",
      "[CV 2/5] END alpha=0.8, beta=3, contamination=0.1, n_clusters=10, threshold=0.5;, score=0.554 total time=   1.1s\n",
      "[CV 3/5] END alpha=0.8, beta=3, contamination=0.1, n_clusters=10, threshold=0.5;, score=0.696 total time=   1.1s\n",
      "[CV 4/5] END alpha=0.8, beta=3, contamination=0.1, n_clusters=10, threshold=0.5;, score=0.679 total time=   1.1s\n",
      "[CV 5/5] END alpha=0.8, beta=3, contamination=0.1, n_clusters=10, threshold=0.5;, score=0.658 total time=   1.1s\n",
      "[CV 1/5] END alpha=0.8, beta=3, contamination=0.1, n_clusters=10, threshold=0.7;, score=0.732 total time=   1.1s\n",
      "[CV 2/5] END alpha=0.8, beta=3, contamination=0.1, n_clusters=10, threshold=0.7;, score=0.554 total time=   1.3s\n",
      "[CV 3/5] END alpha=0.8, beta=3, contamination=0.1, n_clusters=10, threshold=0.7;, score=0.696 total time=   1.2s\n",
      "[CV 4/5] END alpha=0.8, beta=3, contamination=0.1, n_clusters=10, threshold=0.7;, score=0.687 total time=   1.1s\n",
      "[CV 5/5] END alpha=0.8, beta=3, contamination=0.1, n_clusters=10, threshold=0.7;, score=0.658 total time=   1.1s\n"
     ]
    },
    {
     "name": "stderr",
     "output_type": "stream",
     "text": [
      "ERROR:root:['Traceback (most recent call last):\\n', '  File \"/home/joanna/Documents/Studia/22Z/SAD/anomaly-detection/src/anomaly_detection.py\", line 150, in fit\\n    self._set_big_clusters()\\n', '  File \"/home/joanna/Documents/Studia/22Z/SAD/anomaly-detection/src/anomaly_detection.py\", line 204, in _set_big_clusters\\n    raise ValueError(\"Could not separate into large and small clusters\")\\n', 'ValueError: Could not separate into large and small clusters\\n']\n",
      "/home/joanna/Documents/Studia/22Z/SAD/anomaly-detection/venv/lib/python3.10/site-packages/sklearn/model_selection/_validation.py:778: UserWarning: Scoring failed. The score on this train-test partition for these parameters will be set to nan. Details: \n",
      "Traceback (most recent call last):\n",
      "  File \"/home/joanna/Documents/Studia/22Z/SAD/anomaly-detection/venv/lib/python3.10/site-packages/sklearn/model_selection/_validation.py\", line 767, in _score\n",
      "    scores = scorer(estimator, X_test, y_test)\n",
      "  File \"/home/joanna/Documents/Studia/22Z/SAD/anomaly-detection/venv/lib/python3.10/site-packages/sklearn/metrics/_scorer.py\", line 234, in __call__\n",
      "    return self._score(\n",
      "  File \"/home/joanna/Documents/Studia/22Z/SAD/anomaly-detection/venv/lib/python3.10/site-packages/sklearn/metrics/_scorer.py\", line 373, in _score\n",
      "    y_pred = method_caller(clf, \"decision_function\", X)\n",
      "  File \"/home/joanna/Documents/Studia/22Z/SAD/anomaly-detection/venv/lib/python3.10/site-packages/sklearn/metrics/_scorer.py\", line 73, in _cached_call\n",
      "    return getattr(estimator, method)(*args, **kwargs)\n",
      "  File \"/home/joanna/Documents/Studia/22Z/SAD/anomaly-detection/src/anomaly_detection.py\", line 99, in decision_function\n",
      "    return self._chosen_measure.decision_function(X)\n",
      "  File \"/home/joanna/Documents/Studia/22Z/SAD/anomaly-detection/src/anomaly_detection.py\", line 162, in decision_function\n",
      "    return self._decision_function(X)\n",
      "  File \"/home/joanna/Documents/Studia/22Z/SAD/anomaly-detection/src/anomaly_detection.py\", line 209, in _decision_function\n",
      "    nearest_c, nearest_idx = self._dist_to_nearest_large(X)\n",
      "  File \"/home/joanna/Documents/Studia/22Z/SAD/anomaly-detection/src/anomaly_detection.py\", line 230, in _dist_to_nearest_large\n",
      "    n_large_clusters = len(self._big_cluster_idx)\n",
      "TypeError: object of type 'NoneType' has no len()\n",
      "\n",
      "  warnings.warn(\n"
     ]
    },
    {
     "name": "stdout",
     "output_type": "stream",
     "text": [
      "[CV 1/5] END alpha=0.8, beta=3, contamination=0.1, n_clusters=3, threshold=0.2;, score=nan total time=   1.1s\n"
     ]
    },
    {
     "name": "stderr",
     "output_type": "stream",
     "text": [
      "ERROR:root:['Traceback (most recent call last):\\n', '  File \"/home/joanna/Documents/Studia/22Z/SAD/anomaly-detection/src/anomaly_detection.py\", line 150, in fit\\n    self._set_big_clusters()\\n', '  File \"/home/joanna/Documents/Studia/22Z/SAD/anomaly-detection/src/anomaly_detection.py\", line 204, in _set_big_clusters\\n    raise ValueError(\"Could not separate into large and small clusters\")\\n', 'ValueError: Could not separate into large and small clusters\\n']\n",
      "/home/joanna/Documents/Studia/22Z/SAD/anomaly-detection/venv/lib/python3.10/site-packages/sklearn/model_selection/_validation.py:778: UserWarning: Scoring failed. The score on this train-test partition for these parameters will be set to nan. Details: \n",
      "Traceback (most recent call last):\n",
      "  File \"/home/joanna/Documents/Studia/22Z/SAD/anomaly-detection/venv/lib/python3.10/site-packages/sklearn/model_selection/_validation.py\", line 767, in _score\n",
      "    scores = scorer(estimator, X_test, y_test)\n",
      "  File \"/home/joanna/Documents/Studia/22Z/SAD/anomaly-detection/venv/lib/python3.10/site-packages/sklearn/metrics/_scorer.py\", line 234, in __call__\n",
      "    return self._score(\n",
      "  File \"/home/joanna/Documents/Studia/22Z/SAD/anomaly-detection/venv/lib/python3.10/site-packages/sklearn/metrics/_scorer.py\", line 373, in _score\n",
      "    y_pred = method_caller(clf, \"decision_function\", X)\n",
      "  File \"/home/joanna/Documents/Studia/22Z/SAD/anomaly-detection/venv/lib/python3.10/site-packages/sklearn/metrics/_scorer.py\", line 73, in _cached_call\n",
      "    return getattr(estimator, method)(*args, **kwargs)\n",
      "  File \"/home/joanna/Documents/Studia/22Z/SAD/anomaly-detection/src/anomaly_detection.py\", line 99, in decision_function\n",
      "    return self._chosen_measure.decision_function(X)\n",
      "  File \"/home/joanna/Documents/Studia/22Z/SAD/anomaly-detection/src/anomaly_detection.py\", line 162, in decision_function\n",
      "    return self._decision_function(X)\n",
      "  File \"/home/joanna/Documents/Studia/22Z/SAD/anomaly-detection/src/anomaly_detection.py\", line 209, in _decision_function\n",
      "    nearest_c, nearest_idx = self._dist_to_nearest_large(X)\n",
      "  File \"/home/joanna/Documents/Studia/22Z/SAD/anomaly-detection/src/anomaly_detection.py\", line 230, in _dist_to_nearest_large\n",
      "    n_large_clusters = len(self._big_cluster_idx)\n",
      "TypeError: object of type 'NoneType' has no len()\n",
      "\n",
      "  warnings.warn(\n"
     ]
    },
    {
     "name": "stdout",
     "output_type": "stream",
     "text": [
      "[CV 2/5] END alpha=0.8, beta=3, contamination=0.1, n_clusters=3, threshold=0.2;, score=nan total time=   1.1s\n"
     ]
    },
    {
     "name": "stderr",
     "output_type": "stream",
     "text": [
      "ERROR:root:['Traceback (most recent call last):\\n', '  File \"/home/joanna/Documents/Studia/22Z/SAD/anomaly-detection/src/anomaly_detection.py\", line 150, in fit\\n    self._set_big_clusters()\\n', '  File \"/home/joanna/Documents/Studia/22Z/SAD/anomaly-detection/src/anomaly_detection.py\", line 204, in _set_big_clusters\\n    raise ValueError(\"Could not separate into large and small clusters\")\\n', 'ValueError: Could not separate into large and small clusters\\n']\n",
      "/home/joanna/Documents/Studia/22Z/SAD/anomaly-detection/venv/lib/python3.10/site-packages/sklearn/model_selection/_validation.py:778: UserWarning: Scoring failed. The score on this train-test partition for these parameters will be set to nan. Details: \n",
      "Traceback (most recent call last):\n",
      "  File \"/home/joanna/Documents/Studia/22Z/SAD/anomaly-detection/venv/lib/python3.10/site-packages/sklearn/model_selection/_validation.py\", line 767, in _score\n",
      "    scores = scorer(estimator, X_test, y_test)\n",
      "  File \"/home/joanna/Documents/Studia/22Z/SAD/anomaly-detection/venv/lib/python3.10/site-packages/sklearn/metrics/_scorer.py\", line 234, in __call__\n",
      "    return self._score(\n",
      "  File \"/home/joanna/Documents/Studia/22Z/SAD/anomaly-detection/venv/lib/python3.10/site-packages/sklearn/metrics/_scorer.py\", line 373, in _score\n",
      "    y_pred = method_caller(clf, \"decision_function\", X)\n",
      "  File \"/home/joanna/Documents/Studia/22Z/SAD/anomaly-detection/venv/lib/python3.10/site-packages/sklearn/metrics/_scorer.py\", line 73, in _cached_call\n",
      "    return getattr(estimator, method)(*args, **kwargs)\n",
      "  File \"/home/joanna/Documents/Studia/22Z/SAD/anomaly-detection/src/anomaly_detection.py\", line 99, in decision_function\n",
      "    return self._chosen_measure.decision_function(X)\n",
      "  File \"/home/joanna/Documents/Studia/22Z/SAD/anomaly-detection/src/anomaly_detection.py\", line 162, in decision_function\n",
      "    return self._decision_function(X)\n",
      "  File \"/home/joanna/Documents/Studia/22Z/SAD/anomaly-detection/src/anomaly_detection.py\", line 209, in _decision_function\n",
      "    nearest_c, nearest_idx = self._dist_to_nearest_large(X)\n",
      "  File \"/home/joanna/Documents/Studia/22Z/SAD/anomaly-detection/src/anomaly_detection.py\", line 230, in _dist_to_nearest_large\n",
      "    n_large_clusters = len(self._big_cluster_idx)\n",
      "TypeError: object of type 'NoneType' has no len()\n",
      "\n",
      "  warnings.warn(\n"
     ]
    },
    {
     "name": "stdout",
     "output_type": "stream",
     "text": [
      "[CV 3/5] END alpha=0.8, beta=3, contamination=0.1, n_clusters=3, threshold=0.2;, score=nan total time=   1.1s\n"
     ]
    },
    {
     "name": "stderr",
     "output_type": "stream",
     "text": [
      "ERROR:root:['Traceback (most recent call last):\\n', '  File \"/home/joanna/Documents/Studia/22Z/SAD/anomaly-detection/src/anomaly_detection.py\", line 150, in fit\\n    self._set_big_clusters()\\n', '  File \"/home/joanna/Documents/Studia/22Z/SAD/anomaly-detection/src/anomaly_detection.py\", line 204, in _set_big_clusters\\n    raise ValueError(\"Could not separate into large and small clusters\")\\n', 'ValueError: Could not separate into large and small clusters\\n']\n",
      "/home/joanna/Documents/Studia/22Z/SAD/anomaly-detection/venv/lib/python3.10/site-packages/sklearn/model_selection/_validation.py:778: UserWarning: Scoring failed. The score on this train-test partition for these parameters will be set to nan. Details: \n",
      "Traceback (most recent call last):\n",
      "  File \"/home/joanna/Documents/Studia/22Z/SAD/anomaly-detection/venv/lib/python3.10/site-packages/sklearn/model_selection/_validation.py\", line 767, in _score\n",
      "    scores = scorer(estimator, X_test, y_test)\n",
      "  File \"/home/joanna/Documents/Studia/22Z/SAD/anomaly-detection/venv/lib/python3.10/site-packages/sklearn/metrics/_scorer.py\", line 234, in __call__\n",
      "    return self._score(\n",
      "  File \"/home/joanna/Documents/Studia/22Z/SAD/anomaly-detection/venv/lib/python3.10/site-packages/sklearn/metrics/_scorer.py\", line 373, in _score\n",
      "    y_pred = method_caller(clf, \"decision_function\", X)\n",
      "  File \"/home/joanna/Documents/Studia/22Z/SAD/anomaly-detection/venv/lib/python3.10/site-packages/sklearn/metrics/_scorer.py\", line 73, in _cached_call\n",
      "    return getattr(estimator, method)(*args, **kwargs)\n",
      "  File \"/home/joanna/Documents/Studia/22Z/SAD/anomaly-detection/src/anomaly_detection.py\", line 99, in decision_function\n",
      "    return self._chosen_measure.decision_function(X)\n",
      "  File \"/home/joanna/Documents/Studia/22Z/SAD/anomaly-detection/src/anomaly_detection.py\", line 162, in decision_function\n",
      "    return self._decision_function(X)\n",
      "  File \"/home/joanna/Documents/Studia/22Z/SAD/anomaly-detection/src/anomaly_detection.py\", line 209, in _decision_function\n",
      "    nearest_c, nearest_idx = self._dist_to_nearest_large(X)\n",
      "  File \"/home/joanna/Documents/Studia/22Z/SAD/anomaly-detection/src/anomaly_detection.py\", line 230, in _dist_to_nearest_large\n",
      "    n_large_clusters = len(self._big_cluster_idx)\n",
      "TypeError: object of type 'NoneType' has no len()\n",
      "\n",
      "  warnings.warn(\n"
     ]
    },
    {
     "name": "stdout",
     "output_type": "stream",
     "text": [
      "[CV 4/5] END alpha=0.8, beta=3, contamination=0.1, n_clusters=3, threshold=0.2;, score=nan total time=   1.1s\n"
     ]
    },
    {
     "name": "stderr",
     "output_type": "stream",
     "text": [
      "ERROR:root:['Traceback (most recent call last):\\n', '  File \"/home/joanna/Documents/Studia/22Z/SAD/anomaly-detection/src/anomaly_detection.py\", line 150, in fit\\n    self._set_big_clusters()\\n', '  File \"/home/joanna/Documents/Studia/22Z/SAD/anomaly-detection/src/anomaly_detection.py\", line 204, in _set_big_clusters\\n    raise ValueError(\"Could not separate into large and small clusters\")\\n', 'ValueError: Could not separate into large and small clusters\\n']\n",
      "/home/joanna/Documents/Studia/22Z/SAD/anomaly-detection/venv/lib/python3.10/site-packages/sklearn/model_selection/_validation.py:778: UserWarning: Scoring failed. The score on this train-test partition for these parameters will be set to nan. Details: \n",
      "Traceback (most recent call last):\n",
      "  File \"/home/joanna/Documents/Studia/22Z/SAD/anomaly-detection/venv/lib/python3.10/site-packages/sklearn/model_selection/_validation.py\", line 767, in _score\n",
      "    scores = scorer(estimator, X_test, y_test)\n",
      "  File \"/home/joanna/Documents/Studia/22Z/SAD/anomaly-detection/venv/lib/python3.10/site-packages/sklearn/metrics/_scorer.py\", line 234, in __call__\n",
      "    return self._score(\n",
      "  File \"/home/joanna/Documents/Studia/22Z/SAD/anomaly-detection/venv/lib/python3.10/site-packages/sklearn/metrics/_scorer.py\", line 373, in _score\n",
      "    y_pred = method_caller(clf, \"decision_function\", X)\n",
      "  File \"/home/joanna/Documents/Studia/22Z/SAD/anomaly-detection/venv/lib/python3.10/site-packages/sklearn/metrics/_scorer.py\", line 73, in _cached_call\n",
      "    return getattr(estimator, method)(*args, **kwargs)\n",
      "  File \"/home/joanna/Documents/Studia/22Z/SAD/anomaly-detection/src/anomaly_detection.py\", line 99, in decision_function\n",
      "    return self._chosen_measure.decision_function(X)\n",
      "  File \"/home/joanna/Documents/Studia/22Z/SAD/anomaly-detection/src/anomaly_detection.py\", line 162, in decision_function\n",
      "    return self._decision_function(X)\n",
      "  File \"/home/joanna/Documents/Studia/22Z/SAD/anomaly-detection/src/anomaly_detection.py\", line 209, in _decision_function\n",
      "    nearest_c, nearest_idx = self._dist_to_nearest_large(X)\n",
      "  File \"/home/joanna/Documents/Studia/22Z/SAD/anomaly-detection/src/anomaly_detection.py\", line 230, in _dist_to_nearest_large\n",
      "    n_large_clusters = len(self._big_cluster_idx)\n",
      "TypeError: object of type 'NoneType' has no len()\n",
      "\n",
      "  warnings.warn(\n"
     ]
    },
    {
     "name": "stdout",
     "output_type": "stream",
     "text": [
      "[CV 5/5] END alpha=0.8, beta=3, contamination=0.1, n_clusters=3, threshold=0.2;, score=nan total time=   1.2s\n"
     ]
    },
    {
     "name": "stderr",
     "output_type": "stream",
     "text": [
      "ERROR:root:['Traceback (most recent call last):\\n', '  File \"/home/joanna/Documents/Studia/22Z/SAD/anomaly-detection/src/anomaly_detection.py\", line 150, in fit\\n    self._set_big_clusters()\\n', '  File \"/home/joanna/Documents/Studia/22Z/SAD/anomaly-detection/src/anomaly_detection.py\", line 204, in _set_big_clusters\\n    raise ValueError(\"Could not separate into large and small clusters\")\\n', 'ValueError: Could not separate into large and small clusters\\n']\n",
      "/home/joanna/Documents/Studia/22Z/SAD/anomaly-detection/venv/lib/python3.10/site-packages/sklearn/model_selection/_validation.py:778: UserWarning: Scoring failed. The score on this train-test partition for these parameters will be set to nan. Details: \n",
      "Traceback (most recent call last):\n",
      "  File \"/home/joanna/Documents/Studia/22Z/SAD/anomaly-detection/venv/lib/python3.10/site-packages/sklearn/model_selection/_validation.py\", line 767, in _score\n",
      "    scores = scorer(estimator, X_test, y_test)\n",
      "  File \"/home/joanna/Documents/Studia/22Z/SAD/anomaly-detection/venv/lib/python3.10/site-packages/sklearn/metrics/_scorer.py\", line 234, in __call__\n",
      "    return self._score(\n",
      "  File \"/home/joanna/Documents/Studia/22Z/SAD/anomaly-detection/venv/lib/python3.10/site-packages/sklearn/metrics/_scorer.py\", line 373, in _score\n",
      "    y_pred = method_caller(clf, \"decision_function\", X)\n",
      "  File \"/home/joanna/Documents/Studia/22Z/SAD/anomaly-detection/venv/lib/python3.10/site-packages/sklearn/metrics/_scorer.py\", line 73, in _cached_call\n",
      "    return getattr(estimator, method)(*args, **kwargs)\n",
      "  File \"/home/joanna/Documents/Studia/22Z/SAD/anomaly-detection/src/anomaly_detection.py\", line 99, in decision_function\n",
      "    return self._chosen_measure.decision_function(X)\n",
      "  File \"/home/joanna/Documents/Studia/22Z/SAD/anomaly-detection/src/anomaly_detection.py\", line 162, in decision_function\n",
      "    return self._decision_function(X)\n",
      "  File \"/home/joanna/Documents/Studia/22Z/SAD/anomaly-detection/src/anomaly_detection.py\", line 209, in _decision_function\n",
      "    nearest_c, nearest_idx = self._dist_to_nearest_large(X)\n",
      "  File \"/home/joanna/Documents/Studia/22Z/SAD/anomaly-detection/src/anomaly_detection.py\", line 230, in _dist_to_nearest_large\n",
      "    n_large_clusters = len(self._big_cluster_idx)\n",
      "TypeError: object of type 'NoneType' has no len()\n",
      "\n",
      "  warnings.warn(\n"
     ]
    },
    {
     "name": "stdout",
     "output_type": "stream",
     "text": [
      "[CV 1/5] END alpha=0.8, beta=3, contamination=0.1, n_clusters=3, threshold=0.5;, score=nan total time=   1.1s\n"
     ]
    },
    {
     "name": "stderr",
     "output_type": "stream",
     "text": [
      "ERROR:root:['Traceback (most recent call last):\\n', '  File \"/home/joanna/Documents/Studia/22Z/SAD/anomaly-detection/src/anomaly_detection.py\", line 150, in fit\\n    self._set_big_clusters()\\n', '  File \"/home/joanna/Documents/Studia/22Z/SAD/anomaly-detection/src/anomaly_detection.py\", line 204, in _set_big_clusters\\n    raise ValueError(\"Could not separate into large and small clusters\")\\n', 'ValueError: Could not separate into large and small clusters\\n']\n",
      "/home/joanna/Documents/Studia/22Z/SAD/anomaly-detection/venv/lib/python3.10/site-packages/sklearn/model_selection/_validation.py:778: UserWarning: Scoring failed. The score on this train-test partition for these parameters will be set to nan. Details: \n",
      "Traceback (most recent call last):\n",
      "  File \"/home/joanna/Documents/Studia/22Z/SAD/anomaly-detection/venv/lib/python3.10/site-packages/sklearn/model_selection/_validation.py\", line 767, in _score\n",
      "    scores = scorer(estimator, X_test, y_test)\n",
      "  File \"/home/joanna/Documents/Studia/22Z/SAD/anomaly-detection/venv/lib/python3.10/site-packages/sklearn/metrics/_scorer.py\", line 234, in __call__\n",
      "    return self._score(\n",
      "  File \"/home/joanna/Documents/Studia/22Z/SAD/anomaly-detection/venv/lib/python3.10/site-packages/sklearn/metrics/_scorer.py\", line 373, in _score\n",
      "    y_pred = method_caller(clf, \"decision_function\", X)\n",
      "  File \"/home/joanna/Documents/Studia/22Z/SAD/anomaly-detection/venv/lib/python3.10/site-packages/sklearn/metrics/_scorer.py\", line 73, in _cached_call\n",
      "    return getattr(estimator, method)(*args, **kwargs)\n",
      "  File \"/home/joanna/Documents/Studia/22Z/SAD/anomaly-detection/src/anomaly_detection.py\", line 99, in decision_function\n",
      "    return self._chosen_measure.decision_function(X)\n",
      "  File \"/home/joanna/Documents/Studia/22Z/SAD/anomaly-detection/src/anomaly_detection.py\", line 162, in decision_function\n",
      "    return self._decision_function(X)\n",
      "  File \"/home/joanna/Documents/Studia/22Z/SAD/anomaly-detection/src/anomaly_detection.py\", line 209, in _decision_function\n",
      "    nearest_c, nearest_idx = self._dist_to_nearest_large(X)\n",
      "  File \"/home/joanna/Documents/Studia/22Z/SAD/anomaly-detection/src/anomaly_detection.py\", line 230, in _dist_to_nearest_large\n",
      "    n_large_clusters = len(self._big_cluster_idx)\n",
      "TypeError: object of type 'NoneType' has no len()\n",
      "\n",
      "  warnings.warn(\n"
     ]
    },
    {
     "name": "stdout",
     "output_type": "stream",
     "text": [
      "[CV 2/5] END alpha=0.8, beta=3, contamination=0.1, n_clusters=3, threshold=0.5;, score=nan total time=   1.1s\n"
     ]
    },
    {
     "name": "stderr",
     "output_type": "stream",
     "text": [
      "ERROR:root:['Traceback (most recent call last):\\n', '  File \"/home/joanna/Documents/Studia/22Z/SAD/anomaly-detection/src/anomaly_detection.py\", line 150, in fit\\n    self._set_big_clusters()\\n', '  File \"/home/joanna/Documents/Studia/22Z/SAD/anomaly-detection/src/anomaly_detection.py\", line 204, in _set_big_clusters\\n    raise ValueError(\"Could not separate into large and small clusters\")\\n', 'ValueError: Could not separate into large and small clusters\\n']\n",
      "/home/joanna/Documents/Studia/22Z/SAD/anomaly-detection/venv/lib/python3.10/site-packages/sklearn/model_selection/_validation.py:778: UserWarning: Scoring failed. The score on this train-test partition for these parameters will be set to nan. Details: \n",
      "Traceback (most recent call last):\n",
      "  File \"/home/joanna/Documents/Studia/22Z/SAD/anomaly-detection/venv/lib/python3.10/site-packages/sklearn/model_selection/_validation.py\", line 767, in _score\n",
      "    scores = scorer(estimator, X_test, y_test)\n",
      "  File \"/home/joanna/Documents/Studia/22Z/SAD/anomaly-detection/venv/lib/python3.10/site-packages/sklearn/metrics/_scorer.py\", line 234, in __call__\n",
      "    return self._score(\n",
      "  File \"/home/joanna/Documents/Studia/22Z/SAD/anomaly-detection/venv/lib/python3.10/site-packages/sklearn/metrics/_scorer.py\", line 373, in _score\n",
      "    y_pred = method_caller(clf, \"decision_function\", X)\n",
      "  File \"/home/joanna/Documents/Studia/22Z/SAD/anomaly-detection/venv/lib/python3.10/site-packages/sklearn/metrics/_scorer.py\", line 73, in _cached_call\n",
      "    return getattr(estimator, method)(*args, **kwargs)\n",
      "  File \"/home/joanna/Documents/Studia/22Z/SAD/anomaly-detection/src/anomaly_detection.py\", line 99, in decision_function\n",
      "    return self._chosen_measure.decision_function(X)\n",
      "  File \"/home/joanna/Documents/Studia/22Z/SAD/anomaly-detection/src/anomaly_detection.py\", line 162, in decision_function\n",
      "    return self._decision_function(X)\n",
      "  File \"/home/joanna/Documents/Studia/22Z/SAD/anomaly-detection/src/anomaly_detection.py\", line 209, in _decision_function\n",
      "    nearest_c, nearest_idx = self._dist_to_nearest_large(X)\n",
      "  File \"/home/joanna/Documents/Studia/22Z/SAD/anomaly-detection/src/anomaly_detection.py\", line 230, in _dist_to_nearest_large\n",
      "    n_large_clusters = len(self._big_cluster_idx)\n",
      "TypeError: object of type 'NoneType' has no len()\n",
      "\n",
      "  warnings.warn(\n"
     ]
    },
    {
     "name": "stdout",
     "output_type": "stream",
     "text": [
      "[CV 3/5] END alpha=0.8, beta=3, contamination=0.1, n_clusters=3, threshold=0.5;, score=nan total time=   1.3s\n"
     ]
    },
    {
     "name": "stderr",
     "output_type": "stream",
     "text": [
      "ERROR:root:['Traceback (most recent call last):\\n', '  File \"/home/joanna/Documents/Studia/22Z/SAD/anomaly-detection/src/anomaly_detection.py\", line 150, in fit\\n    self._set_big_clusters()\\n', '  File \"/home/joanna/Documents/Studia/22Z/SAD/anomaly-detection/src/anomaly_detection.py\", line 204, in _set_big_clusters\\n    raise ValueError(\"Could not separate into large and small clusters\")\\n', 'ValueError: Could not separate into large and small clusters\\n']\n",
      "/home/joanna/Documents/Studia/22Z/SAD/anomaly-detection/venv/lib/python3.10/site-packages/sklearn/model_selection/_validation.py:778: UserWarning: Scoring failed. The score on this train-test partition for these parameters will be set to nan. Details: \n",
      "Traceback (most recent call last):\n",
      "  File \"/home/joanna/Documents/Studia/22Z/SAD/anomaly-detection/venv/lib/python3.10/site-packages/sklearn/model_selection/_validation.py\", line 767, in _score\n",
      "    scores = scorer(estimator, X_test, y_test)\n",
      "  File \"/home/joanna/Documents/Studia/22Z/SAD/anomaly-detection/venv/lib/python3.10/site-packages/sklearn/metrics/_scorer.py\", line 234, in __call__\n",
      "    return self._score(\n",
      "  File \"/home/joanna/Documents/Studia/22Z/SAD/anomaly-detection/venv/lib/python3.10/site-packages/sklearn/metrics/_scorer.py\", line 373, in _score\n",
      "    y_pred = method_caller(clf, \"decision_function\", X)\n",
      "  File \"/home/joanna/Documents/Studia/22Z/SAD/anomaly-detection/venv/lib/python3.10/site-packages/sklearn/metrics/_scorer.py\", line 73, in _cached_call\n",
      "    return getattr(estimator, method)(*args, **kwargs)\n",
      "  File \"/home/joanna/Documents/Studia/22Z/SAD/anomaly-detection/src/anomaly_detection.py\", line 99, in decision_function\n",
      "    return self._chosen_measure.decision_function(X)\n",
      "  File \"/home/joanna/Documents/Studia/22Z/SAD/anomaly-detection/src/anomaly_detection.py\", line 162, in decision_function\n",
      "    return self._decision_function(X)\n",
      "  File \"/home/joanna/Documents/Studia/22Z/SAD/anomaly-detection/src/anomaly_detection.py\", line 209, in _decision_function\n",
      "    nearest_c, nearest_idx = self._dist_to_nearest_large(X)\n",
      "  File \"/home/joanna/Documents/Studia/22Z/SAD/anomaly-detection/src/anomaly_detection.py\", line 230, in _dist_to_nearest_large\n",
      "    n_large_clusters = len(self._big_cluster_idx)\n",
      "TypeError: object of type 'NoneType' has no len()\n",
      "\n",
      "  warnings.warn(\n"
     ]
    },
    {
     "name": "stdout",
     "output_type": "stream",
     "text": [
      "[CV 4/5] END alpha=0.8, beta=3, contamination=0.1, n_clusters=3, threshold=0.5;, score=nan total time=   1.2s\n"
     ]
    },
    {
     "name": "stderr",
     "output_type": "stream",
     "text": [
      "ERROR:root:['Traceback (most recent call last):\\n', '  File \"/home/joanna/Documents/Studia/22Z/SAD/anomaly-detection/src/anomaly_detection.py\", line 150, in fit\\n    self._set_big_clusters()\\n', '  File \"/home/joanna/Documents/Studia/22Z/SAD/anomaly-detection/src/anomaly_detection.py\", line 204, in _set_big_clusters\\n    raise ValueError(\"Could not separate into large and small clusters\")\\n', 'ValueError: Could not separate into large and small clusters\\n']\n",
      "/home/joanna/Documents/Studia/22Z/SAD/anomaly-detection/venv/lib/python3.10/site-packages/sklearn/model_selection/_validation.py:778: UserWarning: Scoring failed. The score on this train-test partition for these parameters will be set to nan. Details: \n",
      "Traceback (most recent call last):\n",
      "  File \"/home/joanna/Documents/Studia/22Z/SAD/anomaly-detection/venv/lib/python3.10/site-packages/sklearn/model_selection/_validation.py\", line 767, in _score\n",
      "    scores = scorer(estimator, X_test, y_test)\n",
      "  File \"/home/joanna/Documents/Studia/22Z/SAD/anomaly-detection/venv/lib/python3.10/site-packages/sklearn/metrics/_scorer.py\", line 234, in __call__\n",
      "    return self._score(\n",
      "  File \"/home/joanna/Documents/Studia/22Z/SAD/anomaly-detection/venv/lib/python3.10/site-packages/sklearn/metrics/_scorer.py\", line 373, in _score\n",
      "    y_pred = method_caller(clf, \"decision_function\", X)\n",
      "  File \"/home/joanna/Documents/Studia/22Z/SAD/anomaly-detection/venv/lib/python3.10/site-packages/sklearn/metrics/_scorer.py\", line 73, in _cached_call\n",
      "    return getattr(estimator, method)(*args, **kwargs)\n",
      "  File \"/home/joanna/Documents/Studia/22Z/SAD/anomaly-detection/src/anomaly_detection.py\", line 99, in decision_function\n",
      "    return self._chosen_measure.decision_function(X)\n",
      "  File \"/home/joanna/Documents/Studia/22Z/SAD/anomaly-detection/src/anomaly_detection.py\", line 162, in decision_function\n",
      "    return self._decision_function(X)\n",
      "  File \"/home/joanna/Documents/Studia/22Z/SAD/anomaly-detection/src/anomaly_detection.py\", line 209, in _decision_function\n",
      "    nearest_c, nearest_idx = self._dist_to_nearest_large(X)\n",
      "  File \"/home/joanna/Documents/Studia/22Z/SAD/anomaly-detection/src/anomaly_detection.py\", line 230, in _dist_to_nearest_large\n",
      "    n_large_clusters = len(self._big_cluster_idx)\n",
      "TypeError: object of type 'NoneType' has no len()\n",
      "\n",
      "  warnings.warn(\n"
     ]
    },
    {
     "name": "stdout",
     "output_type": "stream",
     "text": [
      "[CV 5/5] END alpha=0.8, beta=3, contamination=0.1, n_clusters=3, threshold=0.5;, score=nan total time=   1.1s\n"
     ]
    },
    {
     "name": "stderr",
     "output_type": "stream",
     "text": [
      "ERROR:root:['Traceback (most recent call last):\\n', '  File \"/home/joanna/Documents/Studia/22Z/SAD/anomaly-detection/src/anomaly_detection.py\", line 150, in fit\\n    self._set_big_clusters()\\n', '  File \"/home/joanna/Documents/Studia/22Z/SAD/anomaly-detection/src/anomaly_detection.py\", line 204, in _set_big_clusters\\n    raise ValueError(\"Could not separate into large and small clusters\")\\n', 'ValueError: Could not separate into large and small clusters\\n']\n",
      "/home/joanna/Documents/Studia/22Z/SAD/anomaly-detection/venv/lib/python3.10/site-packages/sklearn/model_selection/_validation.py:778: UserWarning: Scoring failed. The score on this train-test partition for these parameters will be set to nan. Details: \n",
      "Traceback (most recent call last):\n",
      "  File \"/home/joanna/Documents/Studia/22Z/SAD/anomaly-detection/venv/lib/python3.10/site-packages/sklearn/model_selection/_validation.py\", line 767, in _score\n",
      "    scores = scorer(estimator, X_test, y_test)\n",
      "  File \"/home/joanna/Documents/Studia/22Z/SAD/anomaly-detection/venv/lib/python3.10/site-packages/sklearn/metrics/_scorer.py\", line 234, in __call__\n",
      "    return self._score(\n",
      "  File \"/home/joanna/Documents/Studia/22Z/SAD/anomaly-detection/venv/lib/python3.10/site-packages/sklearn/metrics/_scorer.py\", line 373, in _score\n",
      "    y_pred = method_caller(clf, \"decision_function\", X)\n",
      "  File \"/home/joanna/Documents/Studia/22Z/SAD/anomaly-detection/venv/lib/python3.10/site-packages/sklearn/metrics/_scorer.py\", line 73, in _cached_call\n",
      "    return getattr(estimator, method)(*args, **kwargs)\n",
      "  File \"/home/joanna/Documents/Studia/22Z/SAD/anomaly-detection/src/anomaly_detection.py\", line 99, in decision_function\n",
      "    return self._chosen_measure.decision_function(X)\n",
      "  File \"/home/joanna/Documents/Studia/22Z/SAD/anomaly-detection/src/anomaly_detection.py\", line 162, in decision_function\n",
      "    return self._decision_function(X)\n",
      "  File \"/home/joanna/Documents/Studia/22Z/SAD/anomaly-detection/src/anomaly_detection.py\", line 209, in _decision_function\n",
      "    nearest_c, nearest_idx = self._dist_to_nearest_large(X)\n",
      "  File \"/home/joanna/Documents/Studia/22Z/SAD/anomaly-detection/src/anomaly_detection.py\", line 230, in _dist_to_nearest_large\n",
      "    n_large_clusters = len(self._big_cluster_idx)\n",
      "TypeError: object of type 'NoneType' has no len()\n",
      "\n",
      "  warnings.warn(\n"
     ]
    },
    {
     "name": "stdout",
     "output_type": "stream",
     "text": [
      "[CV 1/5] END alpha=0.8, beta=3, contamination=0.1, n_clusters=3, threshold=0.7;, score=nan total time=   1.1s\n"
     ]
    },
    {
     "name": "stderr",
     "output_type": "stream",
     "text": [
      "ERROR:root:['Traceback (most recent call last):\\n', '  File \"/home/joanna/Documents/Studia/22Z/SAD/anomaly-detection/src/anomaly_detection.py\", line 150, in fit\\n    self._set_big_clusters()\\n', '  File \"/home/joanna/Documents/Studia/22Z/SAD/anomaly-detection/src/anomaly_detection.py\", line 204, in _set_big_clusters\\n    raise ValueError(\"Could not separate into large and small clusters\")\\n', 'ValueError: Could not separate into large and small clusters\\n']\n",
      "/home/joanna/Documents/Studia/22Z/SAD/anomaly-detection/venv/lib/python3.10/site-packages/sklearn/model_selection/_validation.py:778: UserWarning: Scoring failed. The score on this train-test partition for these parameters will be set to nan. Details: \n",
      "Traceback (most recent call last):\n",
      "  File \"/home/joanna/Documents/Studia/22Z/SAD/anomaly-detection/venv/lib/python3.10/site-packages/sklearn/model_selection/_validation.py\", line 767, in _score\n",
      "    scores = scorer(estimator, X_test, y_test)\n",
      "  File \"/home/joanna/Documents/Studia/22Z/SAD/anomaly-detection/venv/lib/python3.10/site-packages/sklearn/metrics/_scorer.py\", line 234, in __call__\n",
      "    return self._score(\n",
      "  File \"/home/joanna/Documents/Studia/22Z/SAD/anomaly-detection/venv/lib/python3.10/site-packages/sklearn/metrics/_scorer.py\", line 373, in _score\n",
      "    y_pred = method_caller(clf, \"decision_function\", X)\n",
      "  File \"/home/joanna/Documents/Studia/22Z/SAD/anomaly-detection/venv/lib/python3.10/site-packages/sklearn/metrics/_scorer.py\", line 73, in _cached_call\n",
      "    return getattr(estimator, method)(*args, **kwargs)\n",
      "  File \"/home/joanna/Documents/Studia/22Z/SAD/anomaly-detection/src/anomaly_detection.py\", line 99, in decision_function\n",
      "    return self._chosen_measure.decision_function(X)\n",
      "  File \"/home/joanna/Documents/Studia/22Z/SAD/anomaly-detection/src/anomaly_detection.py\", line 162, in decision_function\n",
      "    return self._decision_function(X)\n",
      "  File \"/home/joanna/Documents/Studia/22Z/SAD/anomaly-detection/src/anomaly_detection.py\", line 209, in _decision_function\n",
      "    nearest_c, nearest_idx = self._dist_to_nearest_large(X)\n",
      "  File \"/home/joanna/Documents/Studia/22Z/SAD/anomaly-detection/src/anomaly_detection.py\", line 230, in _dist_to_nearest_large\n",
      "    n_large_clusters = len(self._big_cluster_idx)\n",
      "TypeError: object of type 'NoneType' has no len()\n",
      "\n",
      "  warnings.warn(\n"
     ]
    },
    {
     "name": "stdout",
     "output_type": "stream",
     "text": [
      "[CV 2/5] END alpha=0.8, beta=3, contamination=0.1, n_clusters=3, threshold=0.7;, score=nan total time=   1.1s\n"
     ]
    },
    {
     "name": "stderr",
     "output_type": "stream",
     "text": [
      "ERROR:root:['Traceback (most recent call last):\\n', '  File \"/home/joanna/Documents/Studia/22Z/SAD/anomaly-detection/src/anomaly_detection.py\", line 150, in fit\\n    self._set_big_clusters()\\n', '  File \"/home/joanna/Documents/Studia/22Z/SAD/anomaly-detection/src/anomaly_detection.py\", line 204, in _set_big_clusters\\n    raise ValueError(\"Could not separate into large and small clusters\")\\n', 'ValueError: Could not separate into large and small clusters\\n']\n",
      "/home/joanna/Documents/Studia/22Z/SAD/anomaly-detection/venv/lib/python3.10/site-packages/sklearn/model_selection/_validation.py:778: UserWarning: Scoring failed. The score on this train-test partition for these parameters will be set to nan. Details: \n",
      "Traceback (most recent call last):\n",
      "  File \"/home/joanna/Documents/Studia/22Z/SAD/anomaly-detection/venv/lib/python3.10/site-packages/sklearn/model_selection/_validation.py\", line 767, in _score\n",
      "    scores = scorer(estimator, X_test, y_test)\n",
      "  File \"/home/joanna/Documents/Studia/22Z/SAD/anomaly-detection/venv/lib/python3.10/site-packages/sklearn/metrics/_scorer.py\", line 234, in __call__\n",
      "    return self._score(\n",
      "  File \"/home/joanna/Documents/Studia/22Z/SAD/anomaly-detection/venv/lib/python3.10/site-packages/sklearn/metrics/_scorer.py\", line 373, in _score\n",
      "    y_pred = method_caller(clf, \"decision_function\", X)\n",
      "  File \"/home/joanna/Documents/Studia/22Z/SAD/anomaly-detection/venv/lib/python3.10/site-packages/sklearn/metrics/_scorer.py\", line 73, in _cached_call\n",
      "    return getattr(estimator, method)(*args, **kwargs)\n",
      "  File \"/home/joanna/Documents/Studia/22Z/SAD/anomaly-detection/src/anomaly_detection.py\", line 99, in decision_function\n",
      "    return self._chosen_measure.decision_function(X)\n",
      "  File \"/home/joanna/Documents/Studia/22Z/SAD/anomaly-detection/src/anomaly_detection.py\", line 162, in decision_function\n",
      "    return self._decision_function(X)\n",
      "  File \"/home/joanna/Documents/Studia/22Z/SAD/anomaly-detection/src/anomaly_detection.py\", line 209, in _decision_function\n",
      "    nearest_c, nearest_idx = self._dist_to_nearest_large(X)\n",
      "  File \"/home/joanna/Documents/Studia/22Z/SAD/anomaly-detection/src/anomaly_detection.py\", line 230, in _dist_to_nearest_large\n",
      "    n_large_clusters = len(self._big_cluster_idx)\n",
      "TypeError: object of type 'NoneType' has no len()\n",
      "\n",
      "  warnings.warn(\n"
     ]
    },
    {
     "name": "stdout",
     "output_type": "stream",
     "text": [
      "[CV 3/5] END alpha=0.8, beta=3, contamination=0.1, n_clusters=3, threshold=0.7;, score=nan total time=   1.1s\n"
     ]
    },
    {
     "name": "stderr",
     "output_type": "stream",
     "text": [
      "ERROR:root:['Traceback (most recent call last):\\n', '  File \"/home/joanna/Documents/Studia/22Z/SAD/anomaly-detection/src/anomaly_detection.py\", line 150, in fit\\n    self._set_big_clusters()\\n', '  File \"/home/joanna/Documents/Studia/22Z/SAD/anomaly-detection/src/anomaly_detection.py\", line 204, in _set_big_clusters\\n    raise ValueError(\"Could not separate into large and small clusters\")\\n', 'ValueError: Could not separate into large and small clusters\\n']\n",
      "/home/joanna/Documents/Studia/22Z/SAD/anomaly-detection/venv/lib/python3.10/site-packages/sklearn/model_selection/_validation.py:778: UserWarning: Scoring failed. The score on this train-test partition for these parameters will be set to nan. Details: \n",
      "Traceback (most recent call last):\n",
      "  File \"/home/joanna/Documents/Studia/22Z/SAD/anomaly-detection/venv/lib/python3.10/site-packages/sklearn/model_selection/_validation.py\", line 767, in _score\n",
      "    scores = scorer(estimator, X_test, y_test)\n",
      "  File \"/home/joanna/Documents/Studia/22Z/SAD/anomaly-detection/venv/lib/python3.10/site-packages/sklearn/metrics/_scorer.py\", line 234, in __call__\n",
      "    return self._score(\n",
      "  File \"/home/joanna/Documents/Studia/22Z/SAD/anomaly-detection/venv/lib/python3.10/site-packages/sklearn/metrics/_scorer.py\", line 373, in _score\n",
      "    y_pred = method_caller(clf, \"decision_function\", X)\n",
      "  File \"/home/joanna/Documents/Studia/22Z/SAD/anomaly-detection/venv/lib/python3.10/site-packages/sklearn/metrics/_scorer.py\", line 73, in _cached_call\n",
      "    return getattr(estimator, method)(*args, **kwargs)\n",
      "  File \"/home/joanna/Documents/Studia/22Z/SAD/anomaly-detection/src/anomaly_detection.py\", line 99, in decision_function\n",
      "    return self._chosen_measure.decision_function(X)\n",
      "  File \"/home/joanna/Documents/Studia/22Z/SAD/anomaly-detection/src/anomaly_detection.py\", line 162, in decision_function\n",
      "    return self._decision_function(X)\n",
      "  File \"/home/joanna/Documents/Studia/22Z/SAD/anomaly-detection/src/anomaly_detection.py\", line 209, in _decision_function\n",
      "    nearest_c, nearest_idx = self._dist_to_nearest_large(X)\n",
      "  File \"/home/joanna/Documents/Studia/22Z/SAD/anomaly-detection/src/anomaly_detection.py\", line 230, in _dist_to_nearest_large\n",
      "    n_large_clusters = len(self._big_cluster_idx)\n",
      "TypeError: object of type 'NoneType' has no len()\n",
      "\n",
      "  warnings.warn(\n"
     ]
    },
    {
     "name": "stdout",
     "output_type": "stream",
     "text": [
      "[CV 4/5] END alpha=0.8, beta=3, contamination=0.1, n_clusters=3, threshold=0.7;, score=nan total time=   1.1s\n"
     ]
    },
    {
     "name": "stderr",
     "output_type": "stream",
     "text": [
      "ERROR:root:['Traceback (most recent call last):\\n', '  File \"/home/joanna/Documents/Studia/22Z/SAD/anomaly-detection/src/anomaly_detection.py\", line 150, in fit\\n    self._set_big_clusters()\\n', '  File \"/home/joanna/Documents/Studia/22Z/SAD/anomaly-detection/src/anomaly_detection.py\", line 204, in _set_big_clusters\\n    raise ValueError(\"Could not separate into large and small clusters\")\\n', 'ValueError: Could not separate into large and small clusters\\n']\n",
      "/home/joanna/Documents/Studia/22Z/SAD/anomaly-detection/venv/lib/python3.10/site-packages/sklearn/model_selection/_validation.py:778: UserWarning: Scoring failed. The score on this train-test partition for these parameters will be set to nan. Details: \n",
      "Traceback (most recent call last):\n",
      "  File \"/home/joanna/Documents/Studia/22Z/SAD/anomaly-detection/venv/lib/python3.10/site-packages/sklearn/model_selection/_validation.py\", line 767, in _score\n",
      "    scores = scorer(estimator, X_test, y_test)\n",
      "  File \"/home/joanna/Documents/Studia/22Z/SAD/anomaly-detection/venv/lib/python3.10/site-packages/sklearn/metrics/_scorer.py\", line 234, in __call__\n",
      "    return self._score(\n",
      "  File \"/home/joanna/Documents/Studia/22Z/SAD/anomaly-detection/venv/lib/python3.10/site-packages/sklearn/metrics/_scorer.py\", line 373, in _score\n",
      "    y_pred = method_caller(clf, \"decision_function\", X)\n",
      "  File \"/home/joanna/Documents/Studia/22Z/SAD/anomaly-detection/venv/lib/python3.10/site-packages/sklearn/metrics/_scorer.py\", line 73, in _cached_call\n",
      "    return getattr(estimator, method)(*args, **kwargs)\n",
      "  File \"/home/joanna/Documents/Studia/22Z/SAD/anomaly-detection/src/anomaly_detection.py\", line 99, in decision_function\n",
      "    return self._chosen_measure.decision_function(X)\n",
      "  File \"/home/joanna/Documents/Studia/22Z/SAD/anomaly-detection/src/anomaly_detection.py\", line 162, in decision_function\n",
      "    return self._decision_function(X)\n",
      "  File \"/home/joanna/Documents/Studia/22Z/SAD/anomaly-detection/src/anomaly_detection.py\", line 209, in _decision_function\n",
      "    nearest_c, nearest_idx = self._dist_to_nearest_large(X)\n",
      "  File \"/home/joanna/Documents/Studia/22Z/SAD/anomaly-detection/src/anomaly_detection.py\", line 230, in _dist_to_nearest_large\n",
      "    n_large_clusters = len(self._big_cluster_idx)\n",
      "TypeError: object of type 'NoneType' has no len()\n",
      "\n",
      "  warnings.warn(\n"
     ]
    },
    {
     "name": "stdout",
     "output_type": "stream",
     "text": [
      "[CV 5/5] END alpha=0.8, beta=3, contamination=0.1, n_clusters=3, threshold=0.7;, score=nan total time=   1.1s\n",
      "[CV 1/5] END alpha=0.8, beta=3, contamination=0.1, n_clusters=4, threshold=0.2;, score=0.790 total time=   1.1s\n",
      "[CV 2/5] END alpha=0.8, beta=3, contamination=0.1, n_clusters=4, threshold=0.2;, score=0.741 total time=   1.1s\n",
      "[CV 3/5] END alpha=0.8, beta=3, contamination=0.1, n_clusters=4, threshold=0.2;, score=0.717 total time=   1.1s\n",
      "[CV 4/5] END alpha=0.8, beta=3, contamination=0.1, n_clusters=4, threshold=0.2;, score=0.732 total time=   1.3s\n",
      "[CV 5/5] END alpha=0.8, beta=3, contamination=0.1, n_clusters=4, threshold=0.2;, score=0.805 total time=   1.1s\n",
      "[CV 1/5] END alpha=0.8, beta=3, contamination=0.1, n_clusters=4, threshold=0.5;, score=0.790 total time=   1.2s\n",
      "[CV 2/5] END alpha=0.8, beta=3, contamination=0.1, n_clusters=4, threshold=0.5;, score=0.741 total time=   1.1s\n",
      "[CV 3/5] END alpha=0.8, beta=3, contamination=0.1, n_clusters=4, threshold=0.5;, score=0.717 total time=   1.1s\n",
      "[CV 4/5] END alpha=0.8, beta=3, contamination=0.1, n_clusters=4, threshold=0.5;, score=0.732 total time=   1.2s\n",
      "[CV 5/5] END alpha=0.8, beta=3, contamination=0.1, n_clusters=4, threshold=0.5;, score=0.805 total time=   1.2s\n",
      "[CV 1/5] END alpha=0.8, beta=3, contamination=0.1, n_clusters=4, threshold=0.7;, score=0.790 total time=   1.1s\n",
      "[CV 2/5] END alpha=0.8, beta=3, contamination=0.1, n_clusters=4, threshold=0.7;, score=0.741 total time=   1.2s\n",
      "[CV 3/5] END alpha=0.8, beta=3, contamination=0.1, n_clusters=4, threshold=0.7;, score=0.717 total time=   1.2s\n",
      "[CV 4/5] END alpha=0.8, beta=3, contamination=0.1, n_clusters=4, threshold=0.7;, score=0.732 total time=   1.3s\n",
      "[CV 5/5] END alpha=0.8, beta=3, contamination=0.1, n_clusters=4, threshold=0.7;, score=0.805 total time=   1.2s\n",
      "[CV 1/5] END alpha=0.8, beta=3, contamination=0.1, n_clusters=9, threshold=0.2;, score=0.694 total time=   1.2s\n",
      "[CV 2/5] END alpha=0.8, beta=3, contamination=0.1, n_clusters=9, threshold=0.2;, score=0.559 total time=   1.1s\n",
      "[CV 3/5] END alpha=0.8, beta=3, contamination=0.1, n_clusters=9, threshold=0.2;, score=0.696 total time=   1.3s\n",
      "[CV 4/5] END alpha=0.8, beta=3, contamination=0.1, n_clusters=9, threshold=0.2;, score=0.660 total time=   1.2s\n",
      "[CV 5/5] END alpha=0.8, beta=3, contamination=0.1, n_clusters=9, threshold=0.2;, score=0.669 total time=   1.3s\n",
      "[CV 1/5] END alpha=0.8, beta=3, contamination=0.1, n_clusters=9, threshold=0.5;, score=0.694 total time=   1.1s\n",
      "[CV 2/5] END alpha=0.8, beta=3, contamination=0.1, n_clusters=9, threshold=0.5;, score=0.559 total time=   1.2s\n",
      "[CV 3/5] END alpha=0.8, beta=3, contamination=0.1, n_clusters=9, threshold=0.5;, score=0.696 total time=   1.2s\n",
      "[CV 4/5] END alpha=0.8, beta=3, contamination=0.1, n_clusters=9, threshold=0.5;, score=0.660 total time=   1.3s\n",
      "[CV 5/5] END alpha=0.8, beta=3, contamination=0.1, n_clusters=9, threshold=0.5;, score=0.669 total time=   1.1s\n",
      "[CV 1/5] END alpha=0.8, beta=3, contamination=0.1, n_clusters=9, threshold=0.7;, score=0.694 total time=   1.3s\n",
      "[CV 2/5] END alpha=0.8, beta=3, contamination=0.1, n_clusters=9, threshold=0.7;, score=0.559 total time=   1.2s\n"
     ]
    },
    {
     "ename": "KeyboardInterrupt",
     "evalue": "",
     "output_type": "error",
     "traceback": [
      "\u001B[0;31m---------------------------------------------------------------------------\u001B[0m",
      "\u001B[0;31mKeyboardInterrupt\u001B[0m                         Traceback (most recent call last)",
      "Cell \u001B[0;32mIn[6], line 12\u001B[0m\n\u001B[1;32m      9\u001B[0m cbad \u001B[38;5;241m=\u001B[39m ClusterBasedAnomalyDetection(clustering_estimator\u001B[38;5;241m=\u001B[39malgorithm, dissimilarity_measure\u001B[38;5;241m=\u001B[39mmeasure)\n\u001B[1;32m     11\u001B[0m search \u001B[38;5;241m=\u001B[39m GridSearchCV(param_grid\u001B[38;5;241m=\u001B[39mparam_grid, estimator\u001B[38;5;241m=\u001B[39mcbad, scoring\u001B[38;5;241m=\u001B[39m\u001B[38;5;124m\"\u001B[39m\u001B[38;5;124mroc_auc\u001B[39m\u001B[38;5;124m\"\u001B[39m, cv \u001B[38;5;241m=\u001B[39m \u001B[38;5;241m5\u001B[39m, n_jobs\u001B[38;5;241m=\u001B[39m\u001B[38;5;241m1\u001B[39m, verbose\u001B[38;5;241m=\u001B[39m\u001B[38;5;241m4\u001B[39m)\n\u001B[0;32m---> 12\u001B[0m \u001B[43msearch\u001B[49m\u001B[38;5;241;43m.\u001B[39;49m\u001B[43mfit\u001B[49m\u001B[43m(\u001B[49m\u001B[43mX\u001B[49m\u001B[43m,\u001B[49m\u001B[43m \u001B[49m\u001B[43my\u001B[49m\u001B[43m)\u001B[49m\n\u001B[1;32m     13\u001B[0m \u001B[38;5;28mprint\u001B[39m(\u001B[38;5;124mf\u001B[39m\u001B[38;5;124m\"\u001B[39m\u001B[38;5;124m[\u001B[39m\u001B[38;5;132;01m{\u001B[39;00mname\u001B[38;5;132;01m}\u001B[39;00m\u001B[38;5;124m/\u001B[39m\u001B[38;5;132;01m{\u001B[39;00mmeasure\u001B[38;5;132;01m}\u001B[39;00m\u001B[38;5;124m/\u001B[39m\u001B[38;5;132;01m{\u001B[39;00mdataset_name\u001B[38;5;132;01m}\u001B[39;00m\u001B[38;5;124m] Best params: \u001B[39m\u001B[38;5;132;01m{\u001B[39;00msearch\u001B[38;5;241m.\u001B[39mbest_params_\u001B[38;5;132;01m}\u001B[39;00m\u001B[38;5;124m\"\u001B[39m)\n\u001B[1;32m     14\u001B[0m \u001B[38;5;28mprint\u001B[39m(\u001B[38;5;124mf\u001B[39m\u001B[38;5;124m\"\u001B[39m\u001B[38;5;124m[\u001B[39m\u001B[38;5;132;01m{\u001B[39;00mname\u001B[38;5;132;01m}\u001B[39;00m\u001B[38;5;124m/\u001B[39m\u001B[38;5;132;01m{\u001B[39;00mmeasure\u001B[38;5;132;01m}\u001B[39;00m\u001B[38;5;124m/\u001B[39m\u001B[38;5;132;01m{\u001B[39;00mdataset_name\u001B[38;5;132;01m}\u001B[39;00m\u001B[38;5;124m] Best score: \u001B[39m\u001B[38;5;132;01m{\u001B[39;00msearch\u001B[38;5;241m.\u001B[39mbest_score_\u001B[38;5;132;01m}\u001B[39;00m\u001B[38;5;124m\"\u001B[39m)\n",
      "File \u001B[0;32m~/Documents/Studia/22Z/SAD/anomaly-detection/venv/lib/python3.10/site-packages/sklearn/model_selection/_search.py:874\u001B[0m, in \u001B[0;36mBaseSearchCV.fit\u001B[0;34m(self, X, y, groups, **fit_params)\u001B[0m\n\u001B[1;32m    868\u001B[0m     results \u001B[38;5;241m=\u001B[39m \u001B[38;5;28mself\u001B[39m\u001B[38;5;241m.\u001B[39m_format_results(\n\u001B[1;32m    869\u001B[0m         all_candidate_params, n_splits, all_out, all_more_results\n\u001B[1;32m    870\u001B[0m     )\n\u001B[1;32m    872\u001B[0m     \u001B[38;5;28;01mreturn\u001B[39;00m results\n\u001B[0;32m--> 874\u001B[0m \u001B[38;5;28;43mself\u001B[39;49m\u001B[38;5;241;43m.\u001B[39;49m\u001B[43m_run_search\u001B[49m\u001B[43m(\u001B[49m\u001B[43mevaluate_candidates\u001B[49m\u001B[43m)\u001B[49m\n\u001B[1;32m    876\u001B[0m \u001B[38;5;66;03m# multimetric is determined here because in the case of a callable\u001B[39;00m\n\u001B[1;32m    877\u001B[0m \u001B[38;5;66;03m# self.scoring the return type is only known after calling\u001B[39;00m\n\u001B[1;32m    878\u001B[0m first_test_score \u001B[38;5;241m=\u001B[39m all_out[\u001B[38;5;241m0\u001B[39m][\u001B[38;5;124m\"\u001B[39m\u001B[38;5;124mtest_scores\u001B[39m\u001B[38;5;124m\"\u001B[39m]\n",
      "File \u001B[0;32m~/Documents/Studia/22Z/SAD/anomaly-detection/venv/lib/python3.10/site-packages/sklearn/model_selection/_search.py:1388\u001B[0m, in \u001B[0;36mGridSearchCV._run_search\u001B[0;34m(self, evaluate_candidates)\u001B[0m\n\u001B[1;32m   1386\u001B[0m \u001B[38;5;28;01mdef\u001B[39;00m \u001B[38;5;21m_run_search\u001B[39m(\u001B[38;5;28mself\u001B[39m, evaluate_candidates):\n\u001B[1;32m   1387\u001B[0m \u001B[38;5;250m    \u001B[39m\u001B[38;5;124;03m\"\"\"Search all candidates in param_grid\"\"\"\u001B[39;00m\n\u001B[0;32m-> 1388\u001B[0m     \u001B[43mevaluate_candidates\u001B[49m\u001B[43m(\u001B[49m\u001B[43mParameterGrid\u001B[49m\u001B[43m(\u001B[49m\u001B[38;5;28;43mself\u001B[39;49m\u001B[38;5;241;43m.\u001B[39;49m\u001B[43mparam_grid\u001B[49m\u001B[43m)\u001B[49m\u001B[43m)\u001B[49m\n",
      "File \u001B[0;32m~/Documents/Studia/22Z/SAD/anomaly-detection/venv/lib/python3.10/site-packages/sklearn/model_selection/_search.py:821\u001B[0m, in \u001B[0;36mBaseSearchCV.fit.<locals>.evaluate_candidates\u001B[0;34m(candidate_params, cv, more_results)\u001B[0m\n\u001B[1;32m    813\u001B[0m \u001B[38;5;28;01mif\u001B[39;00m \u001B[38;5;28mself\u001B[39m\u001B[38;5;241m.\u001B[39mverbose \u001B[38;5;241m>\u001B[39m \u001B[38;5;241m0\u001B[39m:\n\u001B[1;32m    814\u001B[0m     \u001B[38;5;28mprint\u001B[39m(\n\u001B[1;32m    815\u001B[0m         \u001B[38;5;124m\"\u001B[39m\u001B[38;5;124mFitting \u001B[39m\u001B[38;5;132;01m{0}\u001B[39;00m\u001B[38;5;124m folds for each of \u001B[39m\u001B[38;5;132;01m{1}\u001B[39;00m\u001B[38;5;124m candidates,\u001B[39m\u001B[38;5;124m\"\u001B[39m\n\u001B[1;32m    816\u001B[0m         \u001B[38;5;124m\"\u001B[39m\u001B[38;5;124m totalling \u001B[39m\u001B[38;5;132;01m{2}\u001B[39;00m\u001B[38;5;124m fits\u001B[39m\u001B[38;5;124m\"\u001B[39m\u001B[38;5;241m.\u001B[39mformat(\n\u001B[1;32m    817\u001B[0m             n_splits, n_candidates, n_candidates \u001B[38;5;241m*\u001B[39m n_splits\n\u001B[1;32m    818\u001B[0m         )\n\u001B[1;32m    819\u001B[0m     )\n\u001B[0;32m--> 821\u001B[0m out \u001B[38;5;241m=\u001B[39m \u001B[43mparallel\u001B[49m\u001B[43m(\u001B[49m\n\u001B[1;32m    822\u001B[0m \u001B[43m    \u001B[49m\u001B[43mdelayed\u001B[49m\u001B[43m(\u001B[49m\u001B[43m_fit_and_score\u001B[49m\u001B[43m)\u001B[49m\u001B[43m(\u001B[49m\n\u001B[1;32m    823\u001B[0m \u001B[43m        \u001B[49m\u001B[43mclone\u001B[49m\u001B[43m(\u001B[49m\u001B[43mbase_estimator\u001B[49m\u001B[43m)\u001B[49m\u001B[43m,\u001B[49m\n\u001B[1;32m    824\u001B[0m \u001B[43m        \u001B[49m\u001B[43mX\u001B[49m\u001B[43m,\u001B[49m\n\u001B[1;32m    825\u001B[0m \u001B[43m        \u001B[49m\u001B[43my\u001B[49m\u001B[43m,\u001B[49m\n\u001B[1;32m    826\u001B[0m \u001B[43m        \u001B[49m\u001B[43mtrain\u001B[49m\u001B[38;5;241;43m=\u001B[39;49m\u001B[43mtrain\u001B[49m\u001B[43m,\u001B[49m\n\u001B[1;32m    827\u001B[0m \u001B[43m        \u001B[49m\u001B[43mtest\u001B[49m\u001B[38;5;241;43m=\u001B[39;49m\u001B[43mtest\u001B[49m\u001B[43m,\u001B[49m\n\u001B[1;32m    828\u001B[0m \u001B[43m        \u001B[49m\u001B[43mparameters\u001B[49m\u001B[38;5;241;43m=\u001B[39;49m\u001B[43mparameters\u001B[49m\u001B[43m,\u001B[49m\n\u001B[1;32m    829\u001B[0m \u001B[43m        \u001B[49m\u001B[43msplit_progress\u001B[49m\u001B[38;5;241;43m=\u001B[39;49m\u001B[43m(\u001B[49m\u001B[43msplit_idx\u001B[49m\u001B[43m,\u001B[49m\u001B[43m \u001B[49m\u001B[43mn_splits\u001B[49m\u001B[43m)\u001B[49m\u001B[43m,\u001B[49m\n\u001B[1;32m    830\u001B[0m \u001B[43m        \u001B[49m\u001B[43mcandidate_progress\u001B[49m\u001B[38;5;241;43m=\u001B[39;49m\u001B[43m(\u001B[49m\u001B[43mcand_idx\u001B[49m\u001B[43m,\u001B[49m\u001B[43m \u001B[49m\u001B[43mn_candidates\u001B[49m\u001B[43m)\u001B[49m\u001B[43m,\u001B[49m\n\u001B[1;32m    831\u001B[0m \u001B[43m        \u001B[49m\u001B[38;5;241;43m*\u001B[39;49m\u001B[38;5;241;43m*\u001B[39;49m\u001B[43mfit_and_score_kwargs\u001B[49m\u001B[43m,\u001B[49m\n\u001B[1;32m    832\u001B[0m \u001B[43m    \u001B[49m\u001B[43m)\u001B[49m\n\u001B[1;32m    833\u001B[0m \u001B[43m    \u001B[49m\u001B[38;5;28;43;01mfor\u001B[39;49;00m\u001B[43m \u001B[49m\u001B[43m(\u001B[49m\u001B[43mcand_idx\u001B[49m\u001B[43m,\u001B[49m\u001B[43m \u001B[49m\u001B[43mparameters\u001B[49m\u001B[43m)\u001B[49m\u001B[43m,\u001B[49m\u001B[43m \u001B[49m\u001B[43m(\u001B[49m\u001B[43msplit_idx\u001B[49m\u001B[43m,\u001B[49m\u001B[43m \u001B[49m\u001B[43m(\u001B[49m\u001B[43mtrain\u001B[49m\u001B[43m,\u001B[49m\u001B[43m \u001B[49m\u001B[43mtest\u001B[49m\u001B[43m)\u001B[49m\u001B[43m)\u001B[49m\u001B[43m \u001B[49m\u001B[38;5;129;43;01min\u001B[39;49;00m\u001B[43m \u001B[49m\u001B[43mproduct\u001B[49m\u001B[43m(\u001B[49m\n\u001B[1;32m    834\u001B[0m \u001B[43m        \u001B[49m\u001B[38;5;28;43menumerate\u001B[39;49m\u001B[43m(\u001B[49m\u001B[43mcandidate_params\u001B[49m\u001B[43m)\u001B[49m\u001B[43m,\u001B[49m\u001B[43m \u001B[49m\u001B[38;5;28;43menumerate\u001B[39;49m\u001B[43m(\u001B[49m\u001B[43mcv\u001B[49m\u001B[38;5;241;43m.\u001B[39;49m\u001B[43msplit\u001B[49m\u001B[43m(\u001B[49m\u001B[43mX\u001B[49m\u001B[43m,\u001B[49m\u001B[43m \u001B[49m\u001B[43my\u001B[49m\u001B[43m,\u001B[49m\u001B[43m \u001B[49m\u001B[43mgroups\u001B[49m\u001B[43m)\u001B[49m\u001B[43m)\u001B[49m\n\u001B[1;32m    835\u001B[0m \u001B[43m    \u001B[49m\u001B[43m)\u001B[49m\n\u001B[1;32m    836\u001B[0m \u001B[43m\u001B[49m\u001B[43m)\u001B[49m\n\u001B[1;32m    838\u001B[0m \u001B[38;5;28;01mif\u001B[39;00m \u001B[38;5;28mlen\u001B[39m(out) \u001B[38;5;241m<\u001B[39m \u001B[38;5;241m1\u001B[39m:\n\u001B[1;32m    839\u001B[0m     \u001B[38;5;28;01mraise\u001B[39;00m \u001B[38;5;167;01mValueError\u001B[39;00m(\n\u001B[1;32m    840\u001B[0m         \u001B[38;5;124m\"\u001B[39m\u001B[38;5;124mNo fits were performed. \u001B[39m\u001B[38;5;124m\"\u001B[39m\n\u001B[1;32m    841\u001B[0m         \u001B[38;5;124m\"\u001B[39m\u001B[38;5;124mWas the CV iterator empty? \u001B[39m\u001B[38;5;124m\"\u001B[39m\n\u001B[1;32m    842\u001B[0m         \u001B[38;5;124m\"\u001B[39m\u001B[38;5;124mWere there no candidates?\u001B[39m\u001B[38;5;124m\"\u001B[39m\n\u001B[1;32m    843\u001B[0m     )\n",
      "File \u001B[0;32m~/Documents/Studia/22Z/SAD/anomaly-detection/venv/lib/python3.10/site-packages/sklearn/utils/parallel.py:63\u001B[0m, in \u001B[0;36mParallel.__call__\u001B[0;34m(self, iterable)\u001B[0m\n\u001B[1;32m     58\u001B[0m config \u001B[38;5;241m=\u001B[39m get_config()\n\u001B[1;32m     59\u001B[0m iterable_with_config \u001B[38;5;241m=\u001B[39m (\n\u001B[1;32m     60\u001B[0m     (_with_config(delayed_func, config), args, kwargs)\n\u001B[1;32m     61\u001B[0m     \u001B[38;5;28;01mfor\u001B[39;00m delayed_func, args, kwargs \u001B[38;5;129;01min\u001B[39;00m iterable\n\u001B[1;32m     62\u001B[0m )\n\u001B[0;32m---> 63\u001B[0m \u001B[38;5;28;01mreturn\u001B[39;00m \u001B[38;5;28;43msuper\u001B[39;49m\u001B[43m(\u001B[49m\u001B[43m)\u001B[49m\u001B[38;5;241;43m.\u001B[39;49m\u001B[38;5;21;43m__call__\u001B[39;49m\u001B[43m(\u001B[49m\u001B[43miterable_with_config\u001B[49m\u001B[43m)\u001B[49m\n",
      "File \u001B[0;32m~/Documents/Studia/22Z/SAD/anomaly-detection/venv/lib/python3.10/site-packages/joblib/parallel.py:1088\u001B[0m, in \u001B[0;36mParallel.__call__\u001B[0;34m(self, iterable)\u001B[0m\n\u001B[1;32m   1085\u001B[0m \u001B[38;5;28;01mif\u001B[39;00m \u001B[38;5;28mself\u001B[39m\u001B[38;5;241m.\u001B[39mdispatch_one_batch(iterator):\n\u001B[1;32m   1086\u001B[0m     \u001B[38;5;28mself\u001B[39m\u001B[38;5;241m.\u001B[39m_iterating \u001B[38;5;241m=\u001B[39m \u001B[38;5;28mself\u001B[39m\u001B[38;5;241m.\u001B[39m_original_iterator \u001B[38;5;129;01mis\u001B[39;00m \u001B[38;5;129;01mnot\u001B[39;00m \u001B[38;5;28;01mNone\u001B[39;00m\n\u001B[0;32m-> 1088\u001B[0m \u001B[38;5;28;01mwhile\u001B[39;00m \u001B[38;5;28;43mself\u001B[39;49m\u001B[38;5;241;43m.\u001B[39;49m\u001B[43mdispatch_one_batch\u001B[49m\u001B[43m(\u001B[49m\u001B[43miterator\u001B[49m\u001B[43m)\u001B[49m:\n\u001B[1;32m   1089\u001B[0m     \u001B[38;5;28;01mpass\u001B[39;00m\n\u001B[1;32m   1091\u001B[0m \u001B[38;5;28;01mif\u001B[39;00m pre_dispatch \u001B[38;5;241m==\u001B[39m \u001B[38;5;124m\"\u001B[39m\u001B[38;5;124mall\u001B[39m\u001B[38;5;124m\"\u001B[39m \u001B[38;5;129;01mor\u001B[39;00m n_jobs \u001B[38;5;241m==\u001B[39m \u001B[38;5;241m1\u001B[39m:\n\u001B[1;32m   1092\u001B[0m     \u001B[38;5;66;03m# The iterable was consumed all at once by the above for loop.\u001B[39;00m\n\u001B[1;32m   1093\u001B[0m     \u001B[38;5;66;03m# No need to wait for async callbacks to trigger to\u001B[39;00m\n\u001B[1;32m   1094\u001B[0m     \u001B[38;5;66;03m# consumption.\u001B[39;00m\n",
      "File \u001B[0;32m~/Documents/Studia/22Z/SAD/anomaly-detection/venv/lib/python3.10/site-packages/joblib/parallel.py:901\u001B[0m, in \u001B[0;36mParallel.dispatch_one_batch\u001B[0;34m(self, iterator)\u001B[0m\n\u001B[1;32m    899\u001B[0m     \u001B[38;5;28;01mreturn\u001B[39;00m \u001B[38;5;28;01mFalse\u001B[39;00m\n\u001B[1;32m    900\u001B[0m \u001B[38;5;28;01melse\u001B[39;00m:\n\u001B[0;32m--> 901\u001B[0m     \u001B[38;5;28;43mself\u001B[39;49m\u001B[38;5;241;43m.\u001B[39;49m\u001B[43m_dispatch\u001B[49m\u001B[43m(\u001B[49m\u001B[43mtasks\u001B[49m\u001B[43m)\u001B[49m\n\u001B[1;32m    902\u001B[0m     \u001B[38;5;28;01mreturn\u001B[39;00m \u001B[38;5;28;01mTrue\u001B[39;00m\n",
      "File \u001B[0;32m~/Documents/Studia/22Z/SAD/anomaly-detection/venv/lib/python3.10/site-packages/joblib/parallel.py:819\u001B[0m, in \u001B[0;36mParallel._dispatch\u001B[0;34m(self, batch)\u001B[0m\n\u001B[1;32m    817\u001B[0m \u001B[38;5;28;01mwith\u001B[39;00m \u001B[38;5;28mself\u001B[39m\u001B[38;5;241m.\u001B[39m_lock:\n\u001B[1;32m    818\u001B[0m     job_idx \u001B[38;5;241m=\u001B[39m \u001B[38;5;28mlen\u001B[39m(\u001B[38;5;28mself\u001B[39m\u001B[38;5;241m.\u001B[39m_jobs)\n\u001B[0;32m--> 819\u001B[0m     job \u001B[38;5;241m=\u001B[39m \u001B[38;5;28;43mself\u001B[39;49m\u001B[38;5;241;43m.\u001B[39;49m\u001B[43m_backend\u001B[49m\u001B[38;5;241;43m.\u001B[39;49m\u001B[43mapply_async\u001B[49m\u001B[43m(\u001B[49m\u001B[43mbatch\u001B[49m\u001B[43m,\u001B[49m\u001B[43m \u001B[49m\u001B[43mcallback\u001B[49m\u001B[38;5;241;43m=\u001B[39;49m\u001B[43mcb\u001B[49m\u001B[43m)\u001B[49m\n\u001B[1;32m    820\u001B[0m     \u001B[38;5;66;03m# A job can complete so quickly than its callback is\u001B[39;00m\n\u001B[1;32m    821\u001B[0m     \u001B[38;5;66;03m# called before we get here, causing self._jobs to\u001B[39;00m\n\u001B[1;32m    822\u001B[0m     \u001B[38;5;66;03m# grow. To ensure correct results ordering, .insert is\u001B[39;00m\n\u001B[1;32m    823\u001B[0m     \u001B[38;5;66;03m# used (rather than .append) in the following line\u001B[39;00m\n\u001B[1;32m    824\u001B[0m     \u001B[38;5;28mself\u001B[39m\u001B[38;5;241m.\u001B[39m_jobs\u001B[38;5;241m.\u001B[39minsert(job_idx, job)\n",
      "File \u001B[0;32m~/Documents/Studia/22Z/SAD/anomaly-detection/venv/lib/python3.10/site-packages/joblib/_parallel_backends.py:208\u001B[0m, in \u001B[0;36mSequentialBackend.apply_async\u001B[0;34m(self, func, callback)\u001B[0m\n\u001B[1;32m    206\u001B[0m \u001B[38;5;28;01mdef\u001B[39;00m \u001B[38;5;21mapply_async\u001B[39m(\u001B[38;5;28mself\u001B[39m, func, callback\u001B[38;5;241m=\u001B[39m\u001B[38;5;28;01mNone\u001B[39;00m):\n\u001B[1;32m    207\u001B[0m \u001B[38;5;250m    \u001B[39m\u001B[38;5;124;03m\"\"\"Schedule a func to be run\"\"\"\u001B[39;00m\n\u001B[0;32m--> 208\u001B[0m     result \u001B[38;5;241m=\u001B[39m \u001B[43mImmediateResult\u001B[49m\u001B[43m(\u001B[49m\u001B[43mfunc\u001B[49m\u001B[43m)\u001B[49m\n\u001B[1;32m    209\u001B[0m     \u001B[38;5;28;01mif\u001B[39;00m callback:\n\u001B[1;32m    210\u001B[0m         callback(result)\n",
      "File \u001B[0;32m~/Documents/Studia/22Z/SAD/anomaly-detection/venv/lib/python3.10/site-packages/joblib/_parallel_backends.py:597\u001B[0m, in \u001B[0;36mImmediateResult.__init__\u001B[0;34m(self, batch)\u001B[0m\n\u001B[1;32m    594\u001B[0m \u001B[38;5;28;01mdef\u001B[39;00m \u001B[38;5;21m__init__\u001B[39m(\u001B[38;5;28mself\u001B[39m, batch):\n\u001B[1;32m    595\u001B[0m     \u001B[38;5;66;03m# Don't delay the application, to avoid keeping the input\u001B[39;00m\n\u001B[1;32m    596\u001B[0m     \u001B[38;5;66;03m# arguments in memory\u001B[39;00m\n\u001B[0;32m--> 597\u001B[0m     \u001B[38;5;28mself\u001B[39m\u001B[38;5;241m.\u001B[39mresults \u001B[38;5;241m=\u001B[39m \u001B[43mbatch\u001B[49m\u001B[43m(\u001B[49m\u001B[43m)\u001B[49m\n",
      "File \u001B[0;32m~/Documents/Studia/22Z/SAD/anomaly-detection/venv/lib/python3.10/site-packages/joblib/parallel.py:288\u001B[0m, in \u001B[0;36mBatchedCalls.__call__\u001B[0;34m(self)\u001B[0m\n\u001B[1;32m    284\u001B[0m \u001B[38;5;28;01mdef\u001B[39;00m \u001B[38;5;21m__call__\u001B[39m(\u001B[38;5;28mself\u001B[39m):\n\u001B[1;32m    285\u001B[0m     \u001B[38;5;66;03m# Set the default nested backend to self._backend but do not set the\u001B[39;00m\n\u001B[1;32m    286\u001B[0m     \u001B[38;5;66;03m# change the default number of processes to -1\u001B[39;00m\n\u001B[1;32m    287\u001B[0m     \u001B[38;5;28;01mwith\u001B[39;00m parallel_backend(\u001B[38;5;28mself\u001B[39m\u001B[38;5;241m.\u001B[39m_backend, n_jobs\u001B[38;5;241m=\u001B[39m\u001B[38;5;28mself\u001B[39m\u001B[38;5;241m.\u001B[39m_n_jobs):\n\u001B[0;32m--> 288\u001B[0m         \u001B[38;5;28;01mreturn\u001B[39;00m [func(\u001B[38;5;241m*\u001B[39margs, \u001B[38;5;241m*\u001B[39m\u001B[38;5;241m*\u001B[39mkwargs)\n\u001B[1;32m    289\u001B[0m                 \u001B[38;5;28;01mfor\u001B[39;00m func, args, kwargs \u001B[38;5;129;01min\u001B[39;00m \u001B[38;5;28mself\u001B[39m\u001B[38;5;241m.\u001B[39mitems]\n",
      "File \u001B[0;32m~/Documents/Studia/22Z/SAD/anomaly-detection/venv/lib/python3.10/site-packages/joblib/parallel.py:288\u001B[0m, in \u001B[0;36m<listcomp>\u001B[0;34m(.0)\u001B[0m\n\u001B[1;32m    284\u001B[0m \u001B[38;5;28;01mdef\u001B[39;00m \u001B[38;5;21m__call__\u001B[39m(\u001B[38;5;28mself\u001B[39m):\n\u001B[1;32m    285\u001B[0m     \u001B[38;5;66;03m# Set the default nested backend to self._backend but do not set the\u001B[39;00m\n\u001B[1;32m    286\u001B[0m     \u001B[38;5;66;03m# change the default number of processes to -1\u001B[39;00m\n\u001B[1;32m    287\u001B[0m     \u001B[38;5;28;01mwith\u001B[39;00m parallel_backend(\u001B[38;5;28mself\u001B[39m\u001B[38;5;241m.\u001B[39m_backend, n_jobs\u001B[38;5;241m=\u001B[39m\u001B[38;5;28mself\u001B[39m\u001B[38;5;241m.\u001B[39m_n_jobs):\n\u001B[0;32m--> 288\u001B[0m         \u001B[38;5;28;01mreturn\u001B[39;00m [\u001B[43mfunc\u001B[49m\u001B[43m(\u001B[49m\u001B[38;5;241;43m*\u001B[39;49m\u001B[43margs\u001B[49m\u001B[43m,\u001B[49m\u001B[43m \u001B[49m\u001B[38;5;241;43m*\u001B[39;49m\u001B[38;5;241;43m*\u001B[39;49m\u001B[43mkwargs\u001B[49m\u001B[43m)\u001B[49m\n\u001B[1;32m    289\u001B[0m                 \u001B[38;5;28;01mfor\u001B[39;00m func, args, kwargs \u001B[38;5;129;01min\u001B[39;00m \u001B[38;5;28mself\u001B[39m\u001B[38;5;241m.\u001B[39mitems]\n",
      "File \u001B[0;32m~/Documents/Studia/22Z/SAD/anomaly-detection/venv/lib/python3.10/site-packages/sklearn/utils/parallel.py:123\u001B[0m, in \u001B[0;36m_FuncWrapper.__call__\u001B[0;34m(self, *args, **kwargs)\u001B[0m\n\u001B[1;32m    121\u001B[0m     config \u001B[38;5;241m=\u001B[39m {}\n\u001B[1;32m    122\u001B[0m \u001B[38;5;28;01mwith\u001B[39;00m config_context(\u001B[38;5;241m*\u001B[39m\u001B[38;5;241m*\u001B[39mconfig):\n\u001B[0;32m--> 123\u001B[0m     \u001B[38;5;28;01mreturn\u001B[39;00m \u001B[38;5;28;43mself\u001B[39;49m\u001B[38;5;241;43m.\u001B[39;49m\u001B[43mfunction\u001B[49m\u001B[43m(\u001B[49m\u001B[38;5;241;43m*\u001B[39;49m\u001B[43margs\u001B[49m\u001B[43m,\u001B[49m\u001B[43m \u001B[49m\u001B[38;5;241;43m*\u001B[39;49m\u001B[38;5;241;43m*\u001B[39;49m\u001B[43mkwargs\u001B[49m\u001B[43m)\u001B[49m\n",
      "File \u001B[0;32m~/Documents/Studia/22Z/SAD/anomaly-detection/venv/lib/python3.10/site-packages/sklearn/model_selection/_validation.py:686\u001B[0m, in \u001B[0;36m_fit_and_score\u001B[0;34m(estimator, X, y, scorer, train, test, verbose, parameters, fit_params, return_train_score, return_parameters, return_n_test_samples, return_times, return_estimator, split_progress, candidate_progress, error_score)\u001B[0m\n\u001B[1;32m    684\u001B[0m         estimator\u001B[38;5;241m.\u001B[39mfit(X_train, \u001B[38;5;241m*\u001B[39m\u001B[38;5;241m*\u001B[39mfit_params)\n\u001B[1;32m    685\u001B[0m     \u001B[38;5;28;01melse\u001B[39;00m:\n\u001B[0;32m--> 686\u001B[0m         \u001B[43mestimator\u001B[49m\u001B[38;5;241;43m.\u001B[39;49m\u001B[43mfit\u001B[49m\u001B[43m(\u001B[49m\u001B[43mX_train\u001B[49m\u001B[43m,\u001B[49m\u001B[43m \u001B[49m\u001B[43my_train\u001B[49m\u001B[43m,\u001B[49m\u001B[43m \u001B[49m\u001B[38;5;241;43m*\u001B[39;49m\u001B[38;5;241;43m*\u001B[39;49m\u001B[43mfit_params\u001B[49m\u001B[43m)\u001B[49m\n\u001B[1;32m    688\u001B[0m \u001B[38;5;28;01mexcept\u001B[39;00m \u001B[38;5;167;01mException\u001B[39;00m:\n\u001B[1;32m    689\u001B[0m     \u001B[38;5;66;03m# Note fit time as time until error\u001B[39;00m\n\u001B[1;32m    690\u001B[0m     fit_time \u001B[38;5;241m=\u001B[39m time\u001B[38;5;241m.\u001B[39mtime() \u001B[38;5;241m-\u001B[39m start_time\n",
      "File \u001B[0;32m~/Documents/Studia/22Z/SAD/anomaly-detection/src/anomaly_detection.py:85\u001B[0m, in \u001B[0;36mClusterBasedAnomalyDetection.fit\u001B[0;34m(self, X, y)\u001B[0m\n\u001B[1;32m     83\u001B[0m     \u001B[38;5;28;01melse\u001B[39;00m:\n\u001B[1;32m     84\u001B[0m         \u001B[38;5;28mself\u001B[39m\u001B[38;5;241m.\u001B[39m_chosen_measure \u001B[38;5;241m=\u001B[39m CustomMeasure(\u001B[38;5;28mself\u001B[39m\u001B[38;5;241m.\u001B[39mclustering_estimator, \u001B[38;5;28mself\u001B[39m\u001B[38;5;241m.\u001B[39mdissimilarity_measure)\n\u001B[0;32m---> 85\u001B[0m     \u001B[38;5;28;43mself\u001B[39;49m\u001B[38;5;241;43m.\u001B[39;49m\u001B[43m_chosen_measure\u001B[49m\u001B[38;5;241;43m.\u001B[39;49m\u001B[43mfit\u001B[49m\u001B[43m(\u001B[49m\u001B[43mX\u001B[49m\u001B[43m)\u001B[49m\n\u001B[1;32m     86\u001B[0m \u001B[38;5;28;01mexcept\u001B[39;00m \u001B[38;5;167;01mException\u001B[39;00m \u001B[38;5;28;01mas\u001B[39;00m e:\n\u001B[1;32m     87\u001B[0m     logging\u001B[38;5;241m.\u001B[39merror(traceback\u001B[38;5;241m.\u001B[39mformat_exception(e))\n",
      "File \u001B[0;32m~/Documents/Studia/22Z/SAD/anomaly-detection/src/anomaly_detection.py:142\u001B[0m, in \u001B[0;36mLDCOF.fit\u001B[0;34m(self, X)\u001B[0m\n\u001B[1;32m    140\u001B[0m \u001B[38;5;28;01mdef\u001B[39;00m \u001B[38;5;21mfit\u001B[39m(\u001B[38;5;28mself\u001B[39m, X):\n\u001B[1;32m    141\u001B[0m     \u001B[38;5;28;01mtry\u001B[39;00m:\n\u001B[0;32m--> 142\u001B[0m         \u001B[38;5;28;43mself\u001B[39;49m\u001B[38;5;241;43m.\u001B[39;49m\u001B[43mclustering_estimator\u001B[49m\u001B[38;5;241;43m.\u001B[39;49m\u001B[43mfit\u001B[49m\u001B[43m(\u001B[49m\u001B[43mX\u001B[49m\u001B[43m)\u001B[49m\n\u001B[1;32m    144\u001B[0m         \u001B[38;5;66;03m# helper values\u001B[39;00m\n\u001B[1;32m    145\u001B[0m         \u001B[38;5;28mself\u001B[39m\u001B[38;5;241m.\u001B[39m_n_samples \u001B[38;5;241m=\u001B[39m X\u001B[38;5;241m.\u001B[39mshape[\u001B[38;5;241m0\u001B[39m]\n",
      "File \u001B[0;32m~/Documents/Studia/22Z/SAD/anomaly-detection/venv/lib/python3.10/site-packages/sklearn/cluster/_birch.py:524\u001B[0m, in \u001B[0;36mBirch.fit\u001B[0;34m(self, X, y)\u001B[0m\n\u001B[1;32m    505\u001B[0m \u001B[38;5;250m\u001B[39m\u001B[38;5;124;03m\"\"\"\u001B[39;00m\n\u001B[1;32m    506\u001B[0m \u001B[38;5;124;03mBuild a CF Tree for the input data.\u001B[39;00m\n\u001B[1;32m    507\u001B[0m \n\u001B[0;32m   (...)\u001B[0m\n\u001B[1;32m    519\u001B[0m \u001B[38;5;124;03m    Fitted estimator.\u001B[39;00m\n\u001B[1;32m    520\u001B[0m \u001B[38;5;124;03m\"\"\"\u001B[39;00m\n\u001B[1;32m    522\u001B[0m \u001B[38;5;28mself\u001B[39m\u001B[38;5;241m.\u001B[39m_validate_params()\n\u001B[0;32m--> 524\u001B[0m \u001B[38;5;28;01mreturn\u001B[39;00m \u001B[38;5;28;43mself\u001B[39;49m\u001B[38;5;241;43m.\u001B[39;49m\u001B[43m_fit\u001B[49m\u001B[43m(\u001B[49m\u001B[43mX\u001B[49m\u001B[43m,\u001B[49m\u001B[43m \u001B[49m\u001B[43mpartial\u001B[49m\u001B[38;5;241;43m=\u001B[39;49m\u001B[38;5;28;43;01mFalse\u001B[39;49;00m\u001B[43m)\u001B[49m\n",
      "File \u001B[0;32m~/Documents/Studia/22Z/SAD/anomaly-detection/venv/lib/python3.10/site-packages/sklearn/cluster/_birch.py:594\u001B[0m, in \u001B[0;36mBirch._fit\u001B[0;34m(self, X, partial)\u001B[0m\n\u001B[1;32m    591\u001B[0m \u001B[38;5;28mself\u001B[39m\u001B[38;5;241m.\u001B[39msubcluster_centers_ \u001B[38;5;241m=\u001B[39m centroids\n\u001B[1;32m    592\u001B[0m \u001B[38;5;28mself\u001B[39m\u001B[38;5;241m.\u001B[39m_n_features_out \u001B[38;5;241m=\u001B[39m \u001B[38;5;28mself\u001B[39m\u001B[38;5;241m.\u001B[39msubcluster_centers_\u001B[38;5;241m.\u001B[39mshape[\u001B[38;5;241m0\u001B[39m]\n\u001B[0;32m--> 594\u001B[0m \u001B[38;5;28;43mself\u001B[39;49m\u001B[38;5;241;43m.\u001B[39;49m\u001B[43m_global_clustering\u001B[49m\u001B[43m(\u001B[49m\u001B[43mX\u001B[49m\u001B[43m)\u001B[49m\n\u001B[1;32m    595\u001B[0m \u001B[38;5;28;01mreturn\u001B[39;00m \u001B[38;5;28mself\u001B[39m\n",
      "File \u001B[0;32m~/Documents/Studia/22Z/SAD/anomaly-detection/venv/lib/python3.10/site-packages/sklearn/cluster/_birch.py:736\u001B[0m, in \u001B[0;36mBirch._global_clustering\u001B[0;34m(self, X)\u001B[0m\n\u001B[1;32m    726\u001B[0m         warnings\u001B[38;5;241m.\u001B[39mwarn(\n\u001B[1;32m    727\u001B[0m             \u001B[38;5;124m\"\u001B[39m\u001B[38;5;124mNumber of subclusters found (\u001B[39m\u001B[38;5;132;01m%d\u001B[39;00m\u001B[38;5;124m) by BIRCH is less \u001B[39m\u001B[38;5;124m\"\u001B[39m\n\u001B[1;32m    728\u001B[0m             \u001B[38;5;124m\"\u001B[39m\u001B[38;5;124mthan (\u001B[39m\u001B[38;5;132;01m%d\u001B[39;00m\u001B[38;5;124m). Decrease the threshold.\u001B[39m\u001B[38;5;124m\"\u001B[39m\n\u001B[1;32m    729\u001B[0m             \u001B[38;5;241m%\u001B[39m (\u001B[38;5;28mlen\u001B[39m(centroids), \u001B[38;5;28mself\u001B[39m\u001B[38;5;241m.\u001B[39mn_clusters),\n\u001B[1;32m    730\u001B[0m             ConvergenceWarning,\n\u001B[1;32m    731\u001B[0m         )\n\u001B[1;32m    732\u001B[0m \u001B[38;5;28;01melse\u001B[39;00m:\n\u001B[1;32m    733\u001B[0m     \u001B[38;5;66;03m# The global clustering step that clusters the subclusters of\u001B[39;00m\n\u001B[1;32m    734\u001B[0m     \u001B[38;5;66;03m# the leaves. It assumes the centroids of the subclusters as\u001B[39;00m\n\u001B[1;32m    735\u001B[0m     \u001B[38;5;66;03m# samples and finds the final centroids.\u001B[39;00m\n\u001B[0;32m--> 736\u001B[0m     \u001B[38;5;28mself\u001B[39m\u001B[38;5;241m.\u001B[39msubcluster_labels_ \u001B[38;5;241m=\u001B[39m \u001B[43mclusterer\u001B[49m\u001B[38;5;241;43m.\u001B[39;49m\u001B[43mfit_predict\u001B[49m\u001B[43m(\u001B[49m\u001B[38;5;28;43mself\u001B[39;49m\u001B[38;5;241;43m.\u001B[39;49m\u001B[43msubcluster_centers_\u001B[49m\u001B[43m)\u001B[49m\n\u001B[1;32m    738\u001B[0m \u001B[38;5;28;01mif\u001B[39;00m compute_labels:\n\u001B[1;32m    739\u001B[0m     \u001B[38;5;28mself\u001B[39m\u001B[38;5;241m.\u001B[39mlabels_ \u001B[38;5;241m=\u001B[39m \u001B[38;5;28mself\u001B[39m\u001B[38;5;241m.\u001B[39m_predict(X)\n",
      "File \u001B[0;32m~/Documents/Studia/22Z/SAD/anomaly-detection/venv/lib/python3.10/site-packages/sklearn/cluster/_agglomerative.py:1099\u001B[0m, in \u001B[0;36mAgglomerativeClustering.fit_predict\u001B[0;34m(self, X, y)\u001B[0m\n\u001B[1;32m   1078\u001B[0m \u001B[38;5;28;01mdef\u001B[39;00m \u001B[38;5;21mfit_predict\u001B[39m(\u001B[38;5;28mself\u001B[39m, X, y\u001B[38;5;241m=\u001B[39m\u001B[38;5;28;01mNone\u001B[39;00m):\n\u001B[1;32m   1079\u001B[0m \u001B[38;5;250m    \u001B[39m\u001B[38;5;124;03m\"\"\"Fit and return the result of each sample's clustering assignment.\u001B[39;00m\n\u001B[1;32m   1080\u001B[0m \n\u001B[1;32m   1081\u001B[0m \u001B[38;5;124;03m    In addition to fitting, this method also return the result of the\u001B[39;00m\n\u001B[0;32m   (...)\u001B[0m\n\u001B[1;32m   1097\u001B[0m \u001B[38;5;124;03m        Cluster labels.\u001B[39;00m\n\u001B[1;32m   1098\u001B[0m \u001B[38;5;124;03m    \"\"\"\u001B[39;00m\n\u001B[0;32m-> 1099\u001B[0m     \u001B[38;5;28;01mreturn\u001B[39;00m \u001B[38;5;28;43msuper\u001B[39;49m\u001B[43m(\u001B[49m\u001B[43m)\u001B[49m\u001B[38;5;241;43m.\u001B[39;49m\u001B[43mfit_predict\u001B[49m\u001B[43m(\u001B[49m\u001B[43mX\u001B[49m\u001B[43m,\u001B[49m\u001B[43m \u001B[49m\u001B[43my\u001B[49m\u001B[43m)\u001B[49m\n",
      "File \u001B[0;32m~/Documents/Studia/22Z/SAD/anomaly-detection/venv/lib/python3.10/site-packages/sklearn/base.py:753\u001B[0m, in \u001B[0;36mClusterMixin.fit_predict\u001B[0;34m(self, X, y)\u001B[0m\n\u001B[1;32m    735\u001B[0m \u001B[38;5;250m\u001B[39m\u001B[38;5;124;03m\"\"\"\u001B[39;00m\n\u001B[1;32m    736\u001B[0m \u001B[38;5;124;03mPerform clustering on `X` and returns cluster labels.\u001B[39;00m\n\u001B[1;32m    737\u001B[0m \n\u001B[0;32m   (...)\u001B[0m\n\u001B[1;32m    749\u001B[0m \u001B[38;5;124;03m    Cluster labels.\u001B[39;00m\n\u001B[1;32m    750\u001B[0m \u001B[38;5;124;03m\"\"\"\u001B[39;00m\n\u001B[1;32m    751\u001B[0m \u001B[38;5;66;03m# non-optimized default implementation; override when a better\u001B[39;00m\n\u001B[1;32m    752\u001B[0m \u001B[38;5;66;03m# method is possible for a given clustering algorithm\u001B[39;00m\n\u001B[0;32m--> 753\u001B[0m \u001B[38;5;28;43mself\u001B[39;49m\u001B[38;5;241;43m.\u001B[39;49m\u001B[43mfit\u001B[49m\u001B[43m(\u001B[49m\u001B[43mX\u001B[49m\u001B[43m)\u001B[49m\n\u001B[1;32m    754\u001B[0m \u001B[38;5;28;01mreturn\u001B[39;00m \u001B[38;5;28mself\u001B[39m\u001B[38;5;241m.\u001B[39mlabels_\n",
      "File \u001B[0;32m~/Documents/Studia/22Z/SAD/anomaly-detection/venv/lib/python3.10/site-packages/sklearn/cluster/_agglomerative.py:956\u001B[0m, in \u001B[0;36mAgglomerativeClustering.fit\u001B[0;34m(self, X, y)\u001B[0m\n\u001B[1;32m    954\u001B[0m \u001B[38;5;28mself\u001B[39m\u001B[38;5;241m.\u001B[39m_validate_params()\n\u001B[1;32m    955\u001B[0m X \u001B[38;5;241m=\u001B[39m \u001B[38;5;28mself\u001B[39m\u001B[38;5;241m.\u001B[39m_validate_data(X, ensure_min_samples\u001B[38;5;241m=\u001B[39m\u001B[38;5;241m2\u001B[39m)\n\u001B[0;32m--> 956\u001B[0m \u001B[38;5;28;01mreturn\u001B[39;00m \u001B[38;5;28;43mself\u001B[39;49m\u001B[38;5;241;43m.\u001B[39;49m\u001B[43m_fit\u001B[49m\u001B[43m(\u001B[49m\u001B[43mX\u001B[49m\u001B[43m)\u001B[49m\n",
      "File \u001B[0;32m~/Documents/Studia/22Z/SAD/anomaly-detection/venv/lib/python3.10/site-packages/sklearn/cluster/_agglomerative.py:1046\u001B[0m, in \u001B[0;36mAgglomerativeClustering._fit\u001B[0;34m(self, X)\u001B[0m\n\u001B[1;32m   1042\u001B[0m distance_threshold \u001B[38;5;241m=\u001B[39m \u001B[38;5;28mself\u001B[39m\u001B[38;5;241m.\u001B[39mdistance_threshold\n\u001B[1;32m   1044\u001B[0m return_distance \u001B[38;5;241m=\u001B[39m (distance_threshold \u001B[38;5;129;01mis\u001B[39;00m \u001B[38;5;129;01mnot\u001B[39;00m \u001B[38;5;28;01mNone\u001B[39;00m) \u001B[38;5;129;01mor\u001B[39;00m \u001B[38;5;28mself\u001B[39m\u001B[38;5;241m.\u001B[39mcompute_distances\n\u001B[0;32m-> 1046\u001B[0m out \u001B[38;5;241m=\u001B[39m \u001B[43mmemory\u001B[49m\u001B[38;5;241;43m.\u001B[39;49m\u001B[43mcache\u001B[49m\u001B[43m(\u001B[49m\u001B[43mtree_builder\u001B[49m\u001B[43m)\u001B[49m\u001B[43m(\u001B[49m\n\u001B[1;32m   1047\u001B[0m \u001B[43m    \u001B[49m\u001B[43mX\u001B[49m\u001B[43m,\u001B[49m\n\u001B[1;32m   1048\u001B[0m \u001B[43m    \u001B[49m\u001B[43mconnectivity\u001B[49m\u001B[38;5;241;43m=\u001B[39;49m\u001B[43mconnectivity\u001B[49m\u001B[43m,\u001B[49m\n\u001B[1;32m   1049\u001B[0m \u001B[43m    \u001B[49m\u001B[43mn_clusters\u001B[49m\u001B[38;5;241;43m=\u001B[39;49m\u001B[43mn_clusters\u001B[49m\u001B[43m,\u001B[49m\n\u001B[1;32m   1050\u001B[0m \u001B[43m    \u001B[49m\u001B[43mreturn_distance\u001B[49m\u001B[38;5;241;43m=\u001B[39;49m\u001B[43mreturn_distance\u001B[49m\u001B[43m,\u001B[49m\n\u001B[1;32m   1051\u001B[0m \u001B[43m    \u001B[49m\u001B[38;5;241;43m*\u001B[39;49m\u001B[38;5;241;43m*\u001B[39;49m\u001B[43mkwargs\u001B[49m\u001B[43m,\u001B[49m\n\u001B[1;32m   1052\u001B[0m \u001B[43m\u001B[49m\u001B[43m)\u001B[49m\n\u001B[1;32m   1053\u001B[0m (\u001B[38;5;28mself\u001B[39m\u001B[38;5;241m.\u001B[39mchildren_, \u001B[38;5;28mself\u001B[39m\u001B[38;5;241m.\u001B[39mn_connected_components_, \u001B[38;5;28mself\u001B[39m\u001B[38;5;241m.\u001B[39mn_leaves_, parents) \u001B[38;5;241m=\u001B[39m out[\n\u001B[1;32m   1054\u001B[0m     :\u001B[38;5;241m4\u001B[39m\n\u001B[1;32m   1055\u001B[0m ]\n\u001B[1;32m   1057\u001B[0m \u001B[38;5;28;01mif\u001B[39;00m return_distance:\n",
      "File \u001B[0;32m~/Documents/Studia/22Z/SAD/anomaly-detection/venv/lib/python3.10/site-packages/joblib/memory.py:349\u001B[0m, in \u001B[0;36mNotMemorizedFunc.__call__\u001B[0;34m(self, *args, **kwargs)\u001B[0m\n\u001B[1;32m    348\u001B[0m \u001B[38;5;28;01mdef\u001B[39;00m \u001B[38;5;21m__call__\u001B[39m(\u001B[38;5;28mself\u001B[39m, \u001B[38;5;241m*\u001B[39margs, \u001B[38;5;241m*\u001B[39m\u001B[38;5;241m*\u001B[39mkwargs):\n\u001B[0;32m--> 349\u001B[0m     \u001B[38;5;28;01mreturn\u001B[39;00m \u001B[38;5;28;43mself\u001B[39;49m\u001B[38;5;241;43m.\u001B[39;49m\u001B[43mfunc\u001B[49m\u001B[43m(\u001B[49m\u001B[38;5;241;43m*\u001B[39;49m\u001B[43margs\u001B[49m\u001B[43m,\u001B[49m\u001B[43m \u001B[49m\u001B[38;5;241;43m*\u001B[39;49m\u001B[38;5;241;43m*\u001B[39;49m\u001B[43mkwargs\u001B[49m\u001B[43m)\u001B[49m\n",
      "File \u001B[0;32m~/Documents/Studia/22Z/SAD/anomaly-detection/venv/lib/python3.10/site-packages/sklearn/cluster/_agglomerative.py:273\u001B[0m, in \u001B[0;36mward_tree\u001B[0;34m(X, connectivity, n_clusters, return_distance)\u001B[0m\n\u001B[1;32m    263\u001B[0m     warnings\u001B[38;5;241m.\u001B[39mwarn(\n\u001B[1;32m    264\u001B[0m         \u001B[38;5;124m\"\u001B[39m\u001B[38;5;124mPartial build of the tree is implemented \u001B[39m\u001B[38;5;124m\"\u001B[39m\n\u001B[1;32m    265\u001B[0m         \u001B[38;5;124m\"\u001B[39m\u001B[38;5;124monly for structured clustering (i.e. with \u001B[39m\u001B[38;5;124m\"\u001B[39m\n\u001B[0;32m   (...)\u001B[0m\n\u001B[1;32m    270\u001B[0m         stacklevel\u001B[38;5;241m=\u001B[39m\u001B[38;5;241m2\u001B[39m,\n\u001B[1;32m    271\u001B[0m     )\n\u001B[1;32m    272\u001B[0m X \u001B[38;5;241m=\u001B[39m np\u001B[38;5;241m.\u001B[39mrequire(X, requirements\u001B[38;5;241m=\u001B[39m\u001B[38;5;124m\"\u001B[39m\u001B[38;5;124mW\u001B[39m\u001B[38;5;124m\"\u001B[39m)\n\u001B[0;32m--> 273\u001B[0m out \u001B[38;5;241m=\u001B[39m \u001B[43mhierarchy\u001B[49m\u001B[38;5;241;43m.\u001B[39;49m\u001B[43mward\u001B[49m\u001B[43m(\u001B[49m\u001B[43mX\u001B[49m\u001B[43m)\u001B[49m\n\u001B[1;32m    274\u001B[0m children_ \u001B[38;5;241m=\u001B[39m out[:, :\u001B[38;5;241m2\u001B[39m]\u001B[38;5;241m.\u001B[39mastype(np\u001B[38;5;241m.\u001B[39mintp)\n\u001B[1;32m    276\u001B[0m \u001B[38;5;28;01mif\u001B[39;00m return_distance:\n",
      "File \u001B[0;32m~/Documents/Studia/22Z/SAD/anomaly-detection/venv/lib/python3.10/site-packages/scipy/cluster/hierarchy.py:834\u001B[0m, in \u001B[0;36mward\u001B[0;34m(y)\u001B[0m\n\u001B[1;32m    738\u001B[0m \u001B[38;5;28;01mdef\u001B[39;00m \u001B[38;5;21mward\u001B[39m(y):\n\u001B[1;32m    739\u001B[0m \u001B[38;5;250m    \u001B[39m\u001B[38;5;124;03m\"\"\"\u001B[39;00m\n\u001B[1;32m    740\u001B[0m \u001B[38;5;124;03m    Perform Ward's linkage on a condensed distance matrix.\u001B[39;00m\n\u001B[1;32m    741\u001B[0m \n\u001B[0;32m   (...)\u001B[0m\n\u001B[1;32m    832\u001B[0m \n\u001B[1;32m    833\u001B[0m \u001B[38;5;124;03m    \"\"\"\u001B[39;00m\n\u001B[0;32m--> 834\u001B[0m     \u001B[38;5;28;01mreturn\u001B[39;00m \u001B[43mlinkage\u001B[49m\u001B[43m(\u001B[49m\u001B[43my\u001B[49m\u001B[43m,\u001B[49m\u001B[43m \u001B[49m\u001B[43mmethod\u001B[49m\u001B[38;5;241;43m=\u001B[39;49m\u001B[38;5;124;43m'\u001B[39;49m\u001B[38;5;124;43mward\u001B[39;49m\u001B[38;5;124;43m'\u001B[39;49m\u001B[43m,\u001B[49m\u001B[43m \u001B[49m\u001B[43mmetric\u001B[49m\u001B[38;5;241;43m=\u001B[39;49m\u001B[38;5;124;43m'\u001B[39;49m\u001B[38;5;124;43meuclidean\u001B[39;49m\u001B[38;5;124;43m'\u001B[39;49m\u001B[43m)\u001B[49m\n",
      "File \u001B[0;32m~/Documents/Studia/22Z/SAD/anomaly-detection/venv/lib/python3.10/site-packages/scipy/cluster/hierarchy.py:1060\u001B[0m, in \u001B[0;36mlinkage\u001B[0;34m(y, method, metric, optimal_ordering)\u001B[0m\n\u001B[1;32m   1056\u001B[0m         \u001B[38;5;28;01mif\u001B[39;00m np\u001B[38;5;241m.\u001B[39mall(y \u001B[38;5;241m>\u001B[39m\u001B[38;5;241m=\u001B[39m \u001B[38;5;241m0\u001B[39m) \u001B[38;5;129;01mand\u001B[39;00m np\u001B[38;5;241m.\u001B[39mallclose(y, y\u001B[38;5;241m.\u001B[39mT):\n\u001B[1;32m   1057\u001B[0m             _warning(\u001B[38;5;124m'\u001B[39m\u001B[38;5;124mThe symmetric non-negative hollow observation \u001B[39m\u001B[38;5;124m'\u001B[39m\n\u001B[1;32m   1058\u001B[0m                      \u001B[38;5;124m'\u001B[39m\u001B[38;5;124mmatrix looks suspiciously like an uncondensed \u001B[39m\u001B[38;5;124m'\u001B[39m\n\u001B[1;32m   1059\u001B[0m                      \u001B[38;5;124m'\u001B[39m\u001B[38;5;124mdistance matrix\u001B[39m\u001B[38;5;124m'\u001B[39m)\n\u001B[0;32m-> 1060\u001B[0m     y \u001B[38;5;241m=\u001B[39m \u001B[43mdistance\u001B[49m\u001B[38;5;241;43m.\u001B[39;49m\u001B[43mpdist\u001B[49m\u001B[43m(\u001B[49m\u001B[43my\u001B[49m\u001B[43m,\u001B[49m\u001B[43m \u001B[49m\u001B[43mmetric\u001B[49m\u001B[43m)\u001B[49m\n\u001B[1;32m   1061\u001B[0m \u001B[38;5;28;01melse\u001B[39;00m:\n\u001B[1;32m   1062\u001B[0m     \u001B[38;5;28;01mraise\u001B[39;00m \u001B[38;5;167;01mValueError\u001B[39;00m(\u001B[38;5;124m\"\u001B[39m\u001B[38;5;124m`y` must be 1 or 2 dimensional.\u001B[39m\u001B[38;5;124m\"\u001B[39m)\n",
      "File \u001B[0;32m~/Documents/Studia/22Z/SAD/anomaly-detection/venv/lib/python3.10/site-packages/scipy/spatial/distance.py:2242\u001B[0m, in \u001B[0;36mpdist\u001B[0;34m(X, metric, out, **kwargs)\u001B[0m\n\u001B[1;32m   2240\u001B[0m \u001B[38;5;28;01mif\u001B[39;00m metric_info \u001B[38;5;129;01mis\u001B[39;00m \u001B[38;5;129;01mnot\u001B[39;00m \u001B[38;5;28;01mNone\u001B[39;00m:\n\u001B[1;32m   2241\u001B[0m     pdist_fn \u001B[38;5;241m=\u001B[39m metric_info\u001B[38;5;241m.\u001B[39mpdist_func\n\u001B[0;32m-> 2242\u001B[0m     \u001B[38;5;28;01mreturn\u001B[39;00m \u001B[43mpdist_fn\u001B[49m\u001B[43m(\u001B[49m\u001B[43mX\u001B[49m\u001B[43m,\u001B[49m\u001B[43m \u001B[49m\u001B[43mout\u001B[49m\u001B[38;5;241;43m=\u001B[39;49m\u001B[43mout\u001B[49m\u001B[43m,\u001B[49m\u001B[43m \u001B[49m\u001B[38;5;241;43m*\u001B[39;49m\u001B[38;5;241;43m*\u001B[39;49m\u001B[43mkwargs\u001B[49m\u001B[43m)\u001B[49m\n\u001B[1;32m   2243\u001B[0m \u001B[38;5;28;01melif\u001B[39;00m mstr\u001B[38;5;241m.\u001B[39mstartswith(\u001B[38;5;124m\"\u001B[39m\u001B[38;5;124mtest_\u001B[39m\u001B[38;5;124m\"\u001B[39m):\n\u001B[1;32m   2244\u001B[0m     metric_info \u001B[38;5;241m=\u001B[39m _TEST_METRICS\u001B[38;5;241m.\u001B[39mget(mstr, \u001B[38;5;28;01mNone\u001B[39;00m)\n",
      "\u001B[0;31mKeyboardInterrupt\u001B[0m: "
     ]
    }
   ],
   "source": [
    "clustering_algs = [(\"birch\", Birch())]\n",
    "measures = [\"ldcof\", \"cblof\"]\n",
    "datasets = {\"musk\": load_musk(MUSK_PATH), \"wine\": load_wine(WINE_PATH)}\n",
    "\n",
    "for dataset_name, values in datasets.items():\n",
    "    X,y = values\n",
    "    for name, algorithm in clustering_algs:\n",
    "        for measure in measures:\n",
    "            cbad = ClusterBasedAnomalyDetection(clustering_estimator=algorithm, dissimilarity_measure=measure)\n",
    "\n",
    "            search = GridSearchCV(param_grid=param_grid, estimator=cbad, scoring=\"roc_auc\", cv = 5, n_jobs=1, verbose=4)\n",
    "            search.fit(X, y)\n",
    "            print(f\"[{name}/{measure}/{dataset_name}] Best params: {search.best_params_}\")\n",
    "            print(f\"[{name}/{measure}/{dataset_name}] Best score: {search.best_score_}\")\n",
    "            df[f\"{name}-{measure}\"][dataset_name] = search.best_params_\n"
   ],
   "metadata": {
    "collapsed": false
   }
  },
  {
   "cell_type": "code",
   "execution_count": null,
   "outputs": [],
   "source": [],
   "metadata": {
    "collapsed": false
   }
  }
 ],
 "metadata": {
  "kernelspec": {
   "display_name": "Python 3",
   "language": "python",
   "name": "python3"
  },
  "language_info": {
   "codemirror_mode": {
    "name": "ipython",
    "version": 2
   },
   "file_extension": ".py",
   "mimetype": "text/x-python",
   "name": "python",
   "nbconvert_exporter": "python",
   "pygments_lexer": "ipython2",
   "version": "2.7.6"
  },
  "colab": {
   "provenance": []
  }
 },
 "nbformat": 4,
 "nbformat_minor": 0
}
