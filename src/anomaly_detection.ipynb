{
  "cells": [
    {
      "cell_type": "markdown",
      "source": [
        "# Setup"
      ],
      "metadata": {
        "collapsed": false,
        "id": "X5Z4WbyeFYe-"
      }
    },
    {
      "cell_type": "code",
      "execution_count": 1,
      "outputs": [
        {
          "output_type": "stream",
          "name": "stdout",
          "text": [
            "--2023-05-06 08:14:24--  https://archive.ics.uci.edu/ml/machine-learning-databases/wine-quality/winequality-red.csv\n",
            "Resolving archive.ics.uci.edu (archive.ics.uci.edu)... 128.195.10.252\n",
            "Connecting to archive.ics.uci.edu (archive.ics.uci.edu)|128.195.10.252|:443... connected.\n",
            "HTTP request sent, awaiting response... 200 OK\n",
            "Length: 84199 (82K) [application/x-httpd-php]\n",
            "Saving to: ‘wine/winequality-red.csv’\n",
            "\n",
            "winequality-red.csv 100%[===================>]  82.23K  --.-KB/s    in 0.1s    \n",
            "\n",
            "2023-05-06 08:14:25 (648 KB/s) - ‘wine/winequality-red.csv’ saved [84199/84199]\n",
            "\n",
            "Cloning into 'anomaly-detection'...\n",
            "remote: Enumerating objects: 58, done.\u001b[K\n",
            "remote: Counting objects: 100% (58/58), done.\u001b[K\n",
            "remote: Compressing objects: 100% (37/37), done.\u001b[K\n",
            "remote: Total 58 (delta 24), reused 49 (delta 18), pack-reused 0\u001b[K\n",
            "Unpacking objects: 100% (58/58), 1.55 MiB | 6.24 MiB/s, done.\n"
          ]
        }
      ],
      "source": [
        "# download red wine quality data\n",
        "! mkdir wine\n",
        "!wget -P wine https://archive.ics.uci.edu/ml/machine-learning-databases/wine-quality/winequality-red.csv\n",
        "\n",
        "# download and unzip Musk v2\n",
        "! mkdir musk\n",
        "! wget -P musk https://archive.ics.uci.edu/ml/machine-learning-databases/musk/clean1.data.Z\n",
        "! wget -P musk https://archive.ics.uci.edu/ml/machine-learning-databases/musk/clean2.data.Z\n",
        "! uncompress musk/clean1.data.Z\n",
        "! uncompress musk/clean2.data.Z\n",
        "\n",
        "! git clone --branch wip/clustering https://github.com/jsokolowska/anomaly-detection.git"
      ],
      "metadata": {
        "id": "QkHA1CPEFYfA",
        "outputId": "595ec2df-e02b-4fdd-a1fd-a87d9727b6db",
        "colab": {
          "base_uri": "https://localhost:8080/"
        }
      }
    },
    {
      "cell_type": "code",
      "source": [],
      "metadata": {
        "id": "fx3xnz7TI-ck"
      },
      "execution_count": null,
      "outputs": []
    },
    {
      "cell_type": "code",
      "execution_count": null,
      "outputs": [],
      "source": [
        "from sklearn.metrics import roc_auc_score, f1_score, precision_score, recall_score\n",
        "\n",
        "def score( y_true, y_pred, y_proba):\n",
        "    recall = recall_score(y_true, y_pred)\n",
        "    precision = precision_score(y_true, y_pred)\n",
        "    roc = roc_auc_score(y_true, y_proba)\n",
        "    f1 = f1_score(y_true, y_pred)\n",
        "    print(f\"F1: {f1}\")\n",
        "    print(f\"Precision: {precision}\")\n",
        "    print(f\"Recall: {recall}\")\n",
        "    print(f\"ROC AUC: {roc}\")\n",
        "    return [precision, recall, f1, roc]"
      ],
      "metadata": {
        "id": "8_X4xmmlFYfB"
      }
    },
    {
      "cell_type": "markdown",
      "source": [
        "# Parameter Tuning"
      ],
      "metadata": {
        "collapsed": false,
        "id": "ubhnK4bKFYfC"
      }
    },
    {
      "cell_type": "code",
      "execution_count": null,
      "outputs": [
        {
          "name": "stdout",
          "output_type": "stream",
          "text": [
            "----- Birch clustering with CBLOF -----\n",
            "F1: 0.06639004149377593\n",
            "Precision: 0.05\n",
            "Recall: 0.09876543209876543\n",
            "ROC AUC: 0.43262740122643506\n"
          ]
        },
        {
          "name": "stderr",
          "output_type": "stream",
          "text": [
            "C:\\Users\\Asia\\PycharmProjects\\anomaly-detection\\venv\\lib\\site-packages\\pyod\\models\\cblof.py:253: UserWarning: The chosen clustering for CBLOF does not havethe center of clusters. Calculate the centeras the mean of the clusters.\n",
            "  warnings.warn(\"The chosen clustering for CBLOF does not have\"\n",
            "C:\\Users\\Asia\\PycharmProjects\\anomaly-detection\\venv\\lib\\site-packages\\pyod\\models\\cblof.py:253: UserWarning: The chosen clustering for CBLOF does not havethe center of clusters. Calculate the centeras the mean of the clusters.\n",
            "  warnings.warn(\"The chosen clustering for CBLOF does not have\"\n"
          ]
        }
      ],
      "source": [
        "from anomaly_detection import ClusterBasedAnomalyDetection\n",
        "from sklearn.cluster import Birch\n",
        "from data_loading import load_wine\n",
        "\n",
        "#Birch\n",
        "n_clusters = 10\n",
        "birch = Birch(n_clusters=n_clusters)\n",
        "X, y = load_wine(\"../data/raw/wine/winequality-red.csv\")\n",
        "\n",
        "cbad_cblof = ClusterBasedAnomalyDetection(birch, dissimilarity_measure=\"cblof\", measure_args={\"n_clusters\": n_clusters})\n",
        "y_scores = cbad_cblof.decision_fun(X)\n",
        "y_pred = cbad_cblof.detect(X)\n",
        "\n",
        "print(f\"----- Birch clustering with CBLOF -----\")\n",
        "res = score(y, y_pred, y_scores)"
      ],
      "metadata": {
        "id": "3kxtZRX2FYfD",
        "outputId": "fd4f0138-5cdc-4db6-93d9-a545d4f432a8"
      }
    },
    {
      "cell_type": "code",
      "execution_count": null,
      "outputs": [
        {
          "name": "stdout",
          "output_type": "stream",
          "text": [
            "----- Birch clustering with LDCOF -----\n",
            "F1: 0.07468879668049792\n",
            "Precision: 0.05625\n",
            "Recall: 0.1111111111111111\n",
            "ROC AUC: 0.49668179378324306\n"
          ]
        }
      ],
      "source": [
        "cbad_ldcof = ClusterBasedAnomalyDetection(birch, dissimilarity_measure=\"ldcof\", measure_args={\"n_clusters\": n_clusters})\n",
        "y_scores = cbad_ldcof.decision_fun(X)\n",
        "y_pred = cbad_ldcof.detect(X)\n",
        "\n",
        "print(f\"----- Birch clustering with LDCOF -----\")\n",
        "res = score(y, y_pred, y_scores)"
      ],
      "metadata": {
        "id": "QLki3H4UFYfE",
        "outputId": "f993dda6-2316-4a37-c2fa-96976335109d"
      }
    }
  ],
  "metadata": {
    "kernelspec": {
      "display_name": "Python 3",
      "language": "python",
      "name": "python3"
    },
    "language_info": {
      "codemirror_mode": {
        "name": "ipython",
        "version": 2
      },
      "file_extension": ".py",
      "mimetype": "text/x-python",
      "name": "python",
      "nbconvert_exporter": "python",
      "pygments_lexer": "ipython2",
      "version": "2.7.6"
    },
    "colab": {
      "provenance": []
    }
  },
  "nbformat": 4,
  "nbformat_minor": 0
}