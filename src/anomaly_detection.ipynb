{
 "cells": [
  {
   "cell_type": "markdown",
   "source": [
    "# Setup"
   ],
   "metadata": {
    "collapsed": false
   }
  },
  {
   "cell_type": "code",
   "execution_count": 6,
   "outputs": [
    {
     "name": "stderr",
     "output_type": "stream",
     "text": [
      "'wget' is not recognized as an internal or external command,\n",
      "operable program or batch file.\n",
      "'wget' is not recognized as an internal or external command,\n",
      "operable program or batch file.\n"
     ]
    }
   ],
   "source": [
    "!wget https://archive.ics.uci.edu/ml/machine-learning-databases/wine-quality/winequality-red.csv\n",
    "!wget https://archive.ics.uci.edu/ml/machine-learning-databases/musk/\n",
    "!wget"
   ],
   "metadata": {
    "collapsed": false
   }
  },
  {
   "cell_type": "code",
   "execution_count": 1,
   "outputs": [],
   "source": [
    "from sklearn.metrics import roc_auc_score, f1_score, precision_score, recall_score\n",
    "\n",
    "def score( y_true, y_pred, y_proba):\n",
    "    recall = recall_score(y_true, y_pred)\n",
    "    precision = precision_score(y_true, y_pred)\n",
    "    roc = roc_auc_score(y_true, y_proba)\n",
    "    f1 = f1_score(y_true, y_pred)\n",
    "    print(f\"F1: {f1}\")\n",
    "    print(f\"Precision: {precision}\")\n",
    "    print(f\"Recall: {recall}\")\n",
    "    print(f\"ROC AUC: {roc}\")\n",
    "    return [precision, recall, f1, roc]"
   ],
   "metadata": {
    "collapsed": false
   }
  },
  {
   "cell_type": "markdown",
   "source": [
    "# Parameter Tuning"
   ],
   "metadata": {
    "collapsed": false
   }
  },
  {
   "cell_type": "code",
   "execution_count": 3,
   "outputs": [
    {
     "name": "stdout",
     "output_type": "stream",
     "text": [
      "----- Birch clustering with CBLOF -----\n",
      "F1: 0.06639004149377593\n",
      "Precision: 0.05\n",
      "Recall: 0.09876543209876543\n",
      "ROC AUC: 0.43262740122643506\n"
     ]
    },
    {
     "name": "stderr",
     "output_type": "stream",
     "text": [
      "C:\\Users\\Asia\\PycharmProjects\\anomaly-detection\\venv\\lib\\site-packages\\pyod\\models\\cblof.py:253: UserWarning: The chosen clustering for CBLOF does not havethe center of clusters. Calculate the centeras the mean of the clusters.\n",
      "  warnings.warn(\"The chosen clustering for CBLOF does not have\"\n",
      "C:\\Users\\Asia\\PycharmProjects\\anomaly-detection\\venv\\lib\\site-packages\\pyod\\models\\cblof.py:253: UserWarning: The chosen clustering for CBLOF does not havethe center of clusters. Calculate the centeras the mean of the clusters.\n",
      "  warnings.warn(\"The chosen clustering for CBLOF does not have\"\n"
     ]
    }
   ],
   "source": [
    "from anomaly_detection import ClusterBasedAnomalyDetection\n",
    "from sklearn.cluster import Birch\n",
    "from data_loading import load_wine\n",
    "\n",
    "#Birch\n",
    "n_clusters = 10\n",
    "birch = Birch(n_clusters=n_clusters)\n",
    "X, y = load_wine(\"../data/raw/wine/winequality-red.csv\")\n",
    "\n",
    "cbad_cblof = ClusterBasedAnomalyDetection(birch, dissimilarity_measure=\"cblof\", measure_args={\"n_clusters\": n_clusters})\n",
    "y_scores = cbad_cblof.decision_fun(X)\n",
    "y_pred = cbad_cblof.detect(X)\n",
    "\n",
    "print(f\"----- Birch clustering with CBLOF -----\")\n",
    "res = score(y, y_pred, y_scores)"
   ],
   "metadata": {
    "collapsed": false
   }
  },
  {
   "cell_type": "code",
   "execution_count": 5,
   "outputs": [
    {
     "name": "stdout",
     "output_type": "stream",
     "text": [
      "----- Birch clustering with LDCOF -----\n",
      "F1: 0.07468879668049792\n",
      "Precision: 0.05625\n",
      "Recall: 0.1111111111111111\n",
      "ROC AUC: 0.49668179378324306\n"
     ]
    }
   ],
   "source": [
    "cbad_ldcof = ClusterBasedAnomalyDetection(birch, dissimilarity_measure=\"ldcof\", measure_args={\"n_clusters\": n_clusters})\n",
    "y_scores = cbad_ldcof.decision_fun(X)\n",
    "y_pred = cbad_ldcof.detect(X)\n",
    "\n",
    "print(f\"----- Birch clustering with LDCOF -----\")\n",
    "res = score(y, y_pred, y_scores)"
   ],
   "metadata": {
    "collapsed": false
   }
  }
 ],
 "metadata": {
  "kernelspec": {
   "display_name": "Python 3",
   "language": "python",
   "name": "python3"
  },
  "language_info": {
   "codemirror_mode": {
    "name": "ipython",
    "version": 2
   },
   "file_extension": ".py",
   "mimetype": "text/x-python",
   "name": "python",
   "nbconvert_exporter": "python",
   "pygments_lexer": "ipython2",
   "version": "2.7.6"
  }
 },
 "nbformat": 4,
 "nbformat_minor": 0
}
