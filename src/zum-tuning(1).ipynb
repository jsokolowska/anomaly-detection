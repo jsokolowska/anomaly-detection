{
 "metadata": {
  "kernelspec": {
   "language": "python",
   "display_name": "Python 3",
   "name": "python3"
  },
  "language_info": {
   "name": "python",
   "version": "3.10.10",
   "mimetype": "text/x-python",
   "codemirror_mode": {
    "name": "ipython",
    "version": 3
   },
   "pygments_lexer": "ipython3",
   "nbconvert_exporter": "python",
   "file_extension": ".py"
  }
 },
 "nbformat_minor": 4,
 "nbformat": 4,
 "cells": [
  {
   "cell_type": "markdown",
   "source": [
    "# Setup"
   ],
   "metadata": {
    "id": "X5Z4WbyeFYe-"
   }
  },
  {
   "cell_type": "code",
   "source": [
    "# download red wine quality data\n",
    "! mkdir wine\n",
    "! wget -P wine https://archive.ics.uci.edu/ml/machine-learning-databases/wine-quality/winequality-red.csv\n",
    "\n",
    "# download and unzip Musk v2\n",
    "! mkdir musk\n",
    "! wget -P musk https://archive.ics.uci.edu/ml/machine-learning-databases/musk/clean2.data.Z\n",
    "! uncompress musk/clean2.data.Z\n",
    "\n",
    "# ! git clone --branch wip/clustering https://github.com/jsokolowska/anomaly-detection.git\n",
    "# ! mv anomaly-detection ad"
   ],
   "metadata": {
    "id": "QkHA1CPEFYfA",
    "outputId": "93a3f25a-cac8-49c5-c3a9-031412142547",
    "execution": {
     "iopub.status.busy": "2023-05-09T19:01:12.913147Z",
     "iopub.execute_input": "2023-05-09T19:01:12.913547Z",
     "iopub.status.idle": "2023-05-09T19:01:24.786203Z",
     "shell.execute_reply.started": "2023-05-09T19:01:12.913518Z",
     "shell.execute_reply": "2023-05-09T19:01:24.784888Z"
    },
    "trusted": true
   },
   "execution_count": 1,
   "outputs": [
    {
     "name": "stderr",
     "output_type": "stream",
     "text": [
      "'wget' is not recognized as an internal or external command,\n",
      "operable program or batch file.\n",
      "'wget' is not recognized as an internal or external command,\n",
      "operable program or batch file.\n",
      "'uncompress' is not recognized as an internal or external command,\n",
      "operable program or batch file.\n"
     ]
    }
   ]
  },
  {
   "cell_type": "code",
   "source": [
    "# install pyod - not present by default in google colab\n",
    "#! pip install --force-reinstall numpy==1.22.0\n",
    "! pip install pyod\n"
   ],
   "metadata": {
    "id": "OwOmE3xNyarM",
    "outputId": "775a1150-b295-463b-94cb-3f45f4dd2488",
    "execution": {
     "iopub.status.busy": "2023-05-09T19:01:24.788695Z",
     "iopub.execute_input": "2023-05-09T19:01:24.789064Z",
     "iopub.status.idle": "2023-05-09T19:01:49.729795Z",
     "shell.execute_reply.started": "2023-05-09T19:01:24.789031Z",
     "shell.execute_reply": "2023-05-09T19:01:49.728416Z"
    },
    "trusted": true
   },
   "execution_count": 2,
   "outputs": [
    {
     "name": "stdout",
     "output_type": "stream",
     "text": [
      "Requirement already satisfied: pyod in c:\\users\\asia\\pycharmprojects\\anomaly-detection\\venv\\lib\\site-packages (1.0.9)\n",
      "Requirement already satisfied: matplotlib in c:\\users\\asia\\pycharmprojects\\anomaly-detection\\venv\\lib\\site-packages (from pyod) (3.7.1)\n",
      "Requirement already satisfied: six in c:\\users\\asia\\pycharmprojects\\anomaly-detection\\venv\\lib\\site-packages (from pyod) (1.16.0)\n",
      "Requirement already satisfied: numpy>=1.19 in c:\\users\\asia\\pycharmprojects\\anomaly-detection\\venv\\lib\\site-packages (from pyod) (1.24.3)\n",
      "Requirement already satisfied: joblib in c:\\users\\asia\\pycharmprojects\\anomaly-detection\\venv\\lib\\site-packages (from pyod) (1.2.0)\n",
      "Requirement already satisfied: numba>=0.51 in c:\\users\\asia\\pycharmprojects\\anomaly-detection\\venv\\lib\\site-packages (from pyod) (0.57.0)\n",
      "Requirement already satisfied: scipy>=1.5.1 in c:\\users\\asia\\pycharmprojects\\anomaly-detection\\venv\\lib\\site-packages (from pyod) (1.10.1)\n",
      "Requirement already satisfied: scikit-learn>=0.20.0 in c:\\users\\asia\\pycharmprojects\\anomaly-detection\\venv\\lib\\site-packages (from pyod) (1.2.2)\n",
      "Requirement already satisfied: llvmlite<0.41,>=0.40.0dev0 in c:\\users\\asia\\pycharmprojects\\anomaly-detection\\venv\\lib\\site-packages (from numba>=0.51->pyod) (0.40.0)\n",
      "Requirement already satisfied: threadpoolctl>=2.0.0 in c:\\users\\asia\\pycharmprojects\\anomaly-detection\\venv\\lib\\site-packages (from scikit-learn>=0.20.0->pyod) (3.1.0)\n",
      "Requirement already satisfied: packaging>=20.0 in c:\\users\\asia\\pycharmprojects\\anomaly-detection\\venv\\lib\\site-packages (from matplotlib->pyod) (23.1)\n",
      "Requirement already satisfied: contourpy>=1.0.1 in c:\\users\\asia\\pycharmprojects\\anomaly-detection\\venv\\lib\\site-packages (from matplotlib->pyod) (1.0.7)\n",
      "Requirement already satisfied: pillow>=6.2.0 in c:\\users\\asia\\pycharmprojects\\anomaly-detection\\venv\\lib\\site-packages (from matplotlib->pyod) (9.5.0)\n",
      "Requirement already satisfied: pyparsing>=2.3.1 in c:\\users\\asia\\pycharmprojects\\anomaly-detection\\venv\\lib\\site-packages (from matplotlib->pyod) (3.0.9)\n",
      "Requirement already satisfied: python-dateutil>=2.7 in c:\\users\\asia\\pycharmprojects\\anomaly-detection\\venv\\lib\\site-packages (from matplotlib->pyod) (2.8.2)\n",
      "Requirement already satisfied: kiwisolver>=1.0.1 in c:\\users\\asia\\pycharmprojects\\anomaly-detection\\venv\\lib\\site-packages (from matplotlib->pyod) (1.4.4)\n",
      "Requirement already satisfied: importlib-resources>=3.2.0 in c:\\users\\asia\\pycharmprojects\\anomaly-detection\\venv\\lib\\site-packages (from matplotlib->pyod) (5.12.0)\n",
      "Requirement already satisfied: fonttools>=4.22.0 in c:\\users\\asia\\pycharmprojects\\anomaly-detection\\venv\\lib\\site-packages (from matplotlib->pyod) (4.39.3)\n",
      "Requirement already satisfied: cycler>=0.10 in c:\\users\\asia\\pycharmprojects\\anomaly-detection\\venv\\lib\\site-packages (from matplotlib->pyod) (0.11.0)\n",
      "Requirement already satisfied: zipp>=3.1.0 in c:\\users\\asia\\pycharmprojects\\anomaly-detection\\venv\\lib\\site-packages (from importlib-resources>=3.2.0->matplotlib->pyod) (3.15.0)\n"
     ]
    },
    {
     "name": "stderr",
     "output_type": "stream",
     "text": [
      "WARNING: You are using pip version 21.3.1; however, version 23.1.2 is available.\n",
      "You should consider upgrading via the 'C:\\Users\\Asia\\PycharmProjects\\anomaly-detection\\venv\\Scripts\\python.exe -m pip install --upgrade pip' command.\n"
     ]
    }
   ]
  },
  {
   "cell_type": "code",
   "source": [],
   "metadata": {},
   "execution_count": null,
   "outputs": []
  },
  {
   "cell_type": "code",
   "source": [
    "WINE_PATH = \"./wine/winequality-red.csv\"\n",
    "MUSK_PATH = \"./musk/clean2.data\""
   ],
   "metadata": {
    "id": "3ckDlK8k2N-A",
    "execution": {
     "iopub.status.busy": "2023-05-09T19:01:49.734034Z",
     "iopub.execute_input": "2023-05-09T19:01:49.734958Z",
     "iopub.status.idle": "2023-05-09T19:01:49.740221Z",
     "shell.execute_reply.started": "2023-05-09T19:01:49.734912Z",
     "shell.execute_reply": "2023-05-09T19:01:49.738780Z"
    },
    "trusted": true
   },
   "execution_count": 7,
   "outputs": []
  },
  {
   "cell_type": "code",
   "source": [],
   "metadata": {},
   "execution_count": null,
   "outputs": []
  },
  {
   "cell_type": "code",
   "source": [
    "from sklearn.metrics import roc_auc_score, f1_score, precision_score, recall_score\n",
    "\n",
    "def score( y_true, y_pred, y_proba):\n",
    "    recall = recall_score(y_true, y_pred)\n",
    "    precision = precision_score(y_true, y_pred)\n",
    "    roc = roc_auc_score(y_true, y_proba)\n",
    "    f1 = f1_score(y_true, y_pred)\n",
    "    return precision, recall, f1, roc"
   ],
   "metadata": {
    "id": "8_X4xmmlFYfB",
    "execution": {
     "iopub.status.busy": "2023-05-09T19:01:49.743335Z",
     "iopub.execute_input": "2023-05-09T19:01:49.743821Z",
     "iopub.status.idle": "2023-05-09T19:01:49.754609Z",
     "shell.execute_reply.started": "2023-05-09T19:01:49.743781Z",
     "shell.execute_reply": "2023-05-09T19:01:49.753421Z"
    },
    "trusted": true
   },
   "execution_count": 8,
   "outputs": []
  },
  {
   "cell_type": "markdown",
   "source": [
    "# Parameter Tuning"
   ],
   "metadata": {
    "id": "ubhnK4bKFYfC"
   }
  },
  {
   "cell_type": "code",
   "source": [
    "import os\n",
    "os.listdir(\".\")"
   ],
   "metadata": {
    "execution": {
     "iopub.status.busy": "2023-05-09T18:57:38.823416Z",
     "iopub.execute_input": "2023-05-09T18:57:38.823780Z",
     "iopub.status.idle": "2023-05-09T18:57:38.834312Z",
     "shell.execute_reply.started": "2023-05-09T18:57:38.823750Z",
     "shell.execute_reply": "2023-05-09T18:57:38.833250Z"
    },
    "trusted": true
   },
   "execution_count": 6,
   "outputs": [
    {
     "execution_count": 6,
     "output_type": "execute_result",
     "data": {
      "text/plain": "['wine', 'ad', '__notebook_source__.ipynb', '.virtual_documents', 'musk']"
     },
     "metadata": {}
    }
   ]
  },
  {
   "cell_type": "code",
   "source": [],
   "metadata": {
    "trusted": true
   },
   "execution_count": null,
   "outputs": []
  },
  {
   "cell_type": "code",
   "source": [
    "from sklearn.model_selection import GridSearchCV\n",
    "from ad.src.anomaly_detection import ClusterBasedAnomalyDetection\n",
    "from sklearn.cluster import Birch\n",
    "from sklearn.model_selection import StratifiedKFold\n",
    "from ad.src.data_loading import load_wine, load_musk\n",
    "import pandas as pd"
   ],
   "metadata": {
    "collapsed": false,
    "jupyter": {
     "outputs_hidden": false
    },
    "execution": {
     "iopub.status.busy": "2023-05-09T19:01:49.756260Z",
     "iopub.execute_input": "2023-05-09T19:01:49.756587Z",
     "iopub.status.idle": "2023-05-09T19:01:52.066737Z",
     "shell.execute_reply.started": "2023-05-09T19:01:49.756559Z",
     "shell.execute_reply": "2023-05-09T19:01:52.065492Z"
    },
    "trusted": true
   },
   "execution_count": 9,
   "outputs": []
  },
  {
   "cell_type": "code",
   "source": [
    "df = pd.DataFrame(index=[\"musk\", \"wine\"], columns=[\"birch-ldcof\", \"birch-cblof\", \"dbscan-ldcof\", \"dbscan-cblof\"])\n",
    "# Params for wine\n",
    "param_grid = {\n",
    "    \"alpha\": [0.8, 0.9, 0.95],\n",
    "    \"beta\": [3, 5, 10],\n",
    "    \"contamination\": [0.1, 0.07, 0.05, 0.03],\n",
    "    \"n_clusters\" : [ 3, 5, 7, 10],\n",
    "    \"threshold\": [0.2, 0.5, 0.7]\n",
    "}\n",
    "N_SPLITS = 5\n",
    "X, y = load_wine(WINE_PATH)\n",
    "skf = StratifiedKFold(n_splits=N_SPLITS, random_state = 91, shuffle = True)"
   ],
   "metadata": {
    "collapsed": false,
    "jupyter": {
     "outputs_hidden": false
    },
    "execution": {
     "iopub.status.busy": "2023-05-09T19:01:52.068233Z",
     "iopub.execute_input": "2023-05-09T19:01:52.068590Z",
     "iopub.status.idle": "2023-05-09T19:01:52.103219Z",
     "shell.execute_reply.started": "2023-05-09T19:01:52.068560Z",
     "shell.execute_reply": "2023-05-09T19:01:52.102201Z"
    },
    "trusted": true
   },
   "execution_count": 10,
   "outputs": []
  },
  {
   "cell_type": "code",
   "source": [],
   "metadata": {
    "collapsed": false,
    "jupyter": {
     "outputs_hidden": false
    }
   },
   "execution_count": null,
   "outputs": []
  },
  {
   "cell_type": "code",
   "source": [
    "clustering_algs = [(\"birch\", Birch())]\n",
    "measures = [\"ldcof\", \"cblof\"]\n",
    "datasets = {\"musk\": load_musk(MUSK_PATH), \"wine\": load_wine(WINE_PATH)}\n",
    "\n",
    "for dataset_name, values in datasets.items():\n",
    "    X,y = values\n",
    "    for name, algorithm in clustering_algs:\n",
    "        for measure in measures:\n",
    "            cbad = ClusterBasedAnomalyDetection(clustering_estimator=algorithm, dissimilarity_measure=measure)\n",
    "\n",
    "            search = GridSearchCV(param_grid=param_grid, estimator=cbad, scoring=\"roc_auc\", cv = 5, n_jobs=1)\n",
    "            search.fit(X, y)\n",
    "            print(f\"[{name}/{measure}/{dataset_name}] Best params: {search.best_params_}\")\n",
    "            print(f\"[{name}/{measure}/{dataset_name}] Best score: {search.best_score_}\")\n",
    "            df[f\"{name}-{measure}\"][dataset_name] = search.best_params_\n"
   ],
   "metadata": {
    "collapsed": false,
    "jupyter": {
     "outputs_hidden": false
    },
    "trusted": true
   },
   "execution_count": null,
   "outputs": []
  },
  {
   "cell_type": "code",
   "source": [
    "df"
   ],
   "metadata": {
    "collapsed": false,
    "jupyter": {
     "outputs_hidden": false
    }
   },
   "execution_count": null,
   "outputs": []
  },
  {
   "cell_type": "code",
   "source": [
    "from ad.src.wrappers import DBSCANWrapped"
   ],
   "metadata": {
    "execution": {
     "iopub.status.busy": "2023-05-09T19:01:52.104417Z",
     "iopub.execute_input": "2023-05-09T19:01:52.104732Z",
     "iopub.status.idle": "2023-05-09T19:01:52.110868Z",
     "shell.execute_reply.started": "2023-05-09T19:01:52.104705Z",
     "shell.execute_reply": "2023-05-09T19:01:52.109838Z"
    },
    "trusted": true
   },
   "execution_count": 11,
   "outputs": []
  },
  {
   "cell_type": "code",
   "source": [
    "dbscan_grid = {\n",
    "    \"alpha\": [0.8, 0.9, 0.95],\n",
    "    \"beta\": [3, 5, 10],\n",
    "    \"contamination\": [0.1, 0.07, 0.05, 0.03],\n",
    "    \"eps\": [0.3, 0.5, 1, 2],\n",
    "    \"min_samples\": [1,2],\n",
    "    \"p\": [1,2,3]\n",
    "}"
   ],
   "metadata": {
    "execution": {
     "iopub.status.busy": "2023-05-09T19:01:52.112505Z",
     "iopub.execute_input": "2023-05-09T19:01:52.112855Z",
     "iopub.status.idle": "2023-05-09T19:01:52.120785Z",
     "shell.execute_reply.started": "2023-05-09T19:01:52.112828Z",
     "shell.execute_reply": "2023-05-09T19:01:52.119659Z"
    },
    "trusted": true
   },
   "execution_count": 12,
   "outputs": []
  },
  {
   "cell_type": "code",
   "source": [
    "from sklearn.cluster import DBSCAN\n",
    "clustering_algs = [(\"birch\", DBSCANWrapped(dbscan = DBSCAN()))]\n",
    "measures = [\"ldcof\", \"cblof\"]\n",
    "datasets = {\"musk\": load_musk(MUSK_PATH), \"wine\": load_wine(WINE_PATH)}\n",
    "\n",
    "for dataset_name, values in datasets.items():\n",
    "    X,y = values\n",
    "    for name, algorithm in clustering_algs:\n",
    "        for measure in measures:\n",
    "            cbad = ClusterBasedAnomalyDetection(clustering_estimator=DBSCANWrapped(dbscan = DBSCAN()), dissimilarity_measure=measure)\n",
    "\n",
    "            search = GridSearchCV(param_grid=dbscan_grid, estimator=cbad, scoring=\"roc_auc\", cv = 5, n_jobs=1, verbose = 10)\n",
    "            search.fit(X, y)\n",
    "            print(f\"[{name}/{measure}/{dataset_name}] Best params: {search.best_params_}\")\n",
    "            print(f\"[{name}/{measure}/{dataset_name}] Best score: {search.best_score_}\")\n",
    "            df[f\"{name}-{measure}\"][dataset_name] = search.best_params_\n"
   ],
   "metadata": {
    "execution": {
     "iopub.status.busy": "2023-05-09T19:02:57.639598Z",
     "iopub.execute_input": "2023-05-09T19:02:57.640018Z",
     "iopub.status.idle": "2023-05-09T19:02:57.904685Z",
     "shell.execute_reply.started": "2023-05-09T19:02:57.639984Z",
     "shell.execute_reply": "2023-05-09T19:02:57.902474Z"
    },
    "trusted": true
   },
   "execution_count": 14,
   "outputs": [
    {
     "traceback": [
      "\u001B[0;31m---------------------------------------------------------------------------\u001B[0m",
      "\u001B[0;31mTypeError\u001B[0m                                 Traceback (most recent call last)",
      "Cell \u001B[0;32mIn[14], line 13\u001B[0m\n\u001B[1;32m     10\u001B[0m cbad \u001B[38;5;241m=\u001B[39m ClusterBasedAnomalyDetection(clustering_estimator\u001B[38;5;241m=\u001B[39mDBSCANWrapped(dbscan \u001B[38;5;241m=\u001B[39m DBSCAN()), dissimilarity_measure\u001B[38;5;241m=\u001B[39mmeasure)\n\u001B[1;32m     12\u001B[0m search \u001B[38;5;241m=\u001B[39m GridSearchCV(param_grid\u001B[38;5;241m=\u001B[39mdbscan_grid, estimator\u001B[38;5;241m=\u001B[39mcbad, scoring\u001B[38;5;241m=\u001B[39m\u001B[38;5;124m\"\u001B[39m\u001B[38;5;124mroc_auc\u001B[39m\u001B[38;5;124m\"\u001B[39m, cv \u001B[38;5;241m=\u001B[39m \u001B[38;5;241m5\u001B[39m, n_jobs\u001B[38;5;241m=\u001B[39m\u001B[38;5;241m1\u001B[39m, verbose \u001B[38;5;241m=\u001B[39m \u001B[38;5;241m10\u001B[39m)\n\u001B[0;32m---> 13\u001B[0m \u001B[43msearch\u001B[49m\u001B[38;5;241;43m.\u001B[39;49m\u001B[43mfit\u001B[49m\u001B[43m(\u001B[49m\u001B[43mX\u001B[49m\u001B[43m,\u001B[49m\u001B[43m \u001B[49m\u001B[43my\u001B[49m\u001B[43m)\u001B[49m\n\u001B[1;32m     14\u001B[0m \u001B[38;5;28mprint\u001B[39m(\u001B[38;5;124mf\u001B[39m\u001B[38;5;124m\"\u001B[39m\u001B[38;5;124m[\u001B[39m\u001B[38;5;132;01m{\u001B[39;00mname\u001B[38;5;132;01m}\u001B[39;00m\u001B[38;5;124m/\u001B[39m\u001B[38;5;132;01m{\u001B[39;00mmeasure\u001B[38;5;132;01m}\u001B[39;00m\u001B[38;5;124m/\u001B[39m\u001B[38;5;132;01m{\u001B[39;00mdataset_name\u001B[38;5;132;01m}\u001B[39;00m\u001B[38;5;124m] Best params: \u001B[39m\u001B[38;5;132;01m{\u001B[39;00msearch\u001B[38;5;241m.\u001B[39mbest_params_\u001B[38;5;132;01m}\u001B[39;00m\u001B[38;5;124m\"\u001B[39m)\n\u001B[1;32m     15\u001B[0m \u001B[38;5;28mprint\u001B[39m(\u001B[38;5;124mf\u001B[39m\u001B[38;5;124m\"\u001B[39m\u001B[38;5;124m[\u001B[39m\u001B[38;5;132;01m{\u001B[39;00mname\u001B[38;5;132;01m}\u001B[39;00m\u001B[38;5;124m/\u001B[39m\u001B[38;5;132;01m{\u001B[39;00mmeasure\u001B[38;5;132;01m}\u001B[39;00m\u001B[38;5;124m/\u001B[39m\u001B[38;5;132;01m{\u001B[39;00mdataset_name\u001B[38;5;132;01m}\u001B[39;00m\u001B[38;5;124m] Best score: \u001B[39m\u001B[38;5;132;01m{\u001B[39;00msearch\u001B[38;5;241m.\u001B[39mbest_score_\u001B[38;5;132;01m}\u001B[39;00m\u001B[38;5;124m\"\u001B[39m)\n",
      "File \u001B[0;32m/opt/conda/lib/python3.10/site-packages/sklearn/model_selection/_search.py:788\u001B[0m, in \u001B[0;36mBaseSearchCV.fit\u001B[0;34m(self, X, y, groups, **fit_params)\u001B[0m\n\u001B[1;32m    785\u001B[0m cv_orig \u001B[38;5;241m=\u001B[39m check_cv(\u001B[38;5;28mself\u001B[39m\u001B[38;5;241m.\u001B[39mcv, y, classifier\u001B[38;5;241m=\u001B[39mis_classifier(estimator))\n\u001B[1;32m    786\u001B[0m n_splits \u001B[38;5;241m=\u001B[39m cv_orig\u001B[38;5;241m.\u001B[39mget_n_splits(X, y, groups)\n\u001B[0;32m--> 788\u001B[0m base_estimator \u001B[38;5;241m=\u001B[39m \u001B[43mclone\u001B[49m\u001B[43m(\u001B[49m\u001B[38;5;28;43mself\u001B[39;49m\u001B[38;5;241;43m.\u001B[39;49m\u001B[43mestimator\u001B[49m\u001B[43m)\u001B[49m\n\u001B[1;32m    790\u001B[0m parallel \u001B[38;5;241m=\u001B[39m Parallel(n_jobs\u001B[38;5;241m=\u001B[39m\u001B[38;5;28mself\u001B[39m\u001B[38;5;241m.\u001B[39mn_jobs, pre_dispatch\u001B[38;5;241m=\u001B[39m\u001B[38;5;28mself\u001B[39m\u001B[38;5;241m.\u001B[39mpre_dispatch)\n\u001B[1;32m    792\u001B[0m fit_and_score_kwargs \u001B[38;5;241m=\u001B[39m \u001B[38;5;28mdict\u001B[39m(\n\u001B[1;32m    793\u001B[0m     scorer\u001B[38;5;241m=\u001B[39mscorers,\n\u001B[1;32m    794\u001B[0m     fit_params\u001B[38;5;241m=\u001B[39mfit_params,\n\u001B[0;32m   (...)\u001B[0m\n\u001B[1;32m    800\u001B[0m     verbose\u001B[38;5;241m=\u001B[39m\u001B[38;5;28mself\u001B[39m\u001B[38;5;241m.\u001B[39mverbose,\n\u001B[1;32m    801\u001B[0m )\n",
      "File \u001B[0;32m/opt/conda/lib/python3.10/site-packages/sklearn/base.py:89\u001B[0m, in \u001B[0;36mclone\u001B[0;34m(estimator, safe)\u001B[0m\n\u001B[1;32m     87\u001B[0m new_object_params \u001B[38;5;241m=\u001B[39m estimator\u001B[38;5;241m.\u001B[39mget_params(deep\u001B[38;5;241m=\u001B[39m\u001B[38;5;28;01mFalse\u001B[39;00m)\n\u001B[1;32m     88\u001B[0m \u001B[38;5;28;01mfor\u001B[39;00m name, param \u001B[38;5;129;01min\u001B[39;00m new_object_params\u001B[38;5;241m.\u001B[39mitems():\n\u001B[0;32m---> 89\u001B[0m     new_object_params[name] \u001B[38;5;241m=\u001B[39m \u001B[43mclone\u001B[49m\u001B[43m(\u001B[49m\u001B[43mparam\u001B[49m\u001B[43m,\u001B[49m\u001B[43m \u001B[49m\u001B[43msafe\u001B[49m\u001B[38;5;241;43m=\u001B[39;49m\u001B[38;5;28;43;01mFalse\u001B[39;49;00m\u001B[43m)\u001B[49m\n\u001B[1;32m     90\u001B[0m new_object \u001B[38;5;241m=\u001B[39m klass(\u001B[38;5;241m*\u001B[39m\u001B[38;5;241m*\u001B[39mnew_object_params)\n\u001B[1;32m     91\u001B[0m params_set \u001B[38;5;241m=\u001B[39m new_object\u001B[38;5;241m.\u001B[39mget_params(deep\u001B[38;5;241m=\u001B[39m\u001B[38;5;28;01mFalse\u001B[39;00m)\n",
      "File \u001B[0;32m/opt/conda/lib/python3.10/site-packages/sklearn/base.py:90\u001B[0m, in \u001B[0;36mclone\u001B[0;34m(estimator, safe)\u001B[0m\n\u001B[1;32m     88\u001B[0m \u001B[38;5;28;01mfor\u001B[39;00m name, param \u001B[38;5;129;01min\u001B[39;00m new_object_params\u001B[38;5;241m.\u001B[39mitems():\n\u001B[1;32m     89\u001B[0m     new_object_params[name] \u001B[38;5;241m=\u001B[39m clone(param, safe\u001B[38;5;241m=\u001B[39m\u001B[38;5;28;01mFalse\u001B[39;00m)\n\u001B[0;32m---> 90\u001B[0m new_object \u001B[38;5;241m=\u001B[39m \u001B[43mklass\u001B[49m\u001B[43m(\u001B[49m\u001B[38;5;241;43m*\u001B[39;49m\u001B[38;5;241;43m*\u001B[39;49m\u001B[43mnew_object_params\u001B[49m\u001B[43m)\u001B[49m\n\u001B[1;32m     91\u001B[0m params_set \u001B[38;5;241m=\u001B[39m new_object\u001B[38;5;241m.\u001B[39mget_params(deep\u001B[38;5;241m=\u001B[39m\u001B[38;5;28;01mFalse\u001B[39;00m)\n\u001B[1;32m     93\u001B[0m \u001B[38;5;66;03m# quick sanity check of the parameters of the clone\u001B[39;00m\n",
      "\u001B[0;31mTypeError\u001B[0m: DBSCANWrapped.__init__() got an unexpected keyword argument 'algorithm'"
     ],
     "ename": "TypeError",
     "evalue": "DBSCANWrapped.__init__() got an unexpected keyword argument 'algorithm'",
     "output_type": "error"
    }
   ]
  }
 ]
}
